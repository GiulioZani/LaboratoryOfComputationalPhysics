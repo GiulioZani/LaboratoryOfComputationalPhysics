{
 "cells": [
  {
   "cell_type": "markdown",
   "metadata": {},
   "source": [
    "1\\. Write a function that converts number representation (bin<->dec<->hex)"
   ]
  },
  {
   "cell_type": "code",
   "execution_count": 1,
   "metadata": {},
   "outputs": [
    {
     "name": "stdout",
     "output_type": "stream",
     "text": [
      "Decimal Number = 15\n",
      "Converted to Bin = 1111\n",
      "Converted to Hex = F\n",
      "\n",
      " --- \n",
      "\n",
      "Binary Number = 1101\n",
      "Converted to Dec = 13\n",
      "Converted to Hex = D\n",
      "\n",
      " --- \n",
      "\n",
      "Hexadecimal Number = A\n",
      "Converted to Dec = 10\n",
      "Converted to Bin = 1010\n"
     ]
    }
   ],
   "source": [
    "# Strign to convert into binary values\n",
    "binConv = \"01\"\n",
    "# Strign to convert into hexadecimal values\n",
    "hexConv = \"0123456789ABCDEF\"\n",
    "\n",
    "def DecToBin(Dec):\n",
    "    # Result converted to binary\n",
    "    binNum = \"\"\n",
    "    while(Dec > 0):\n",
    "        # Add at the beginning of the string the rest of the division\n",
    "        binNum = binConv[Dec%2] + binNum\n",
    "        # Divide the number\n",
    "        Dec = Dec//2\n",
    "    return binNum\n",
    "\n",
    "def DecToHex(Dec):\n",
    "    # Result converted to hexadecimal\n",
    "    hexNum = \"\"\n",
    "    while(Dec > 0):\n",
    "        # Add at the beginning of the string the rest of the division\n",
    "        hexNum = hexConv[Dec%16] + hexNum\n",
    "        # Divide the number\n",
    "        Dec = Dec//16\n",
    "    return hexNum\n",
    "\n",
    "def BinToDec(Bin):\n",
    "    # Result converted to decimal\n",
    "    dec = 0\n",
    "    # Write in reverse order:\n",
    "    # LSB is the first element in the string, MSB is the last\n",
    "    Bin = Bin[::-1] #string[start:end:step]\n",
    "    for index, value in enumerate(Bin):\n",
    "        #dec = dec + int(value, 2)*2**index\n",
    "        dec = dec + binConv.find(value[:])*2**index\n",
    "    return dec\n",
    "\n",
    "def BinToHex(Bin):\n",
    "    return(DecToHex(BinToDec(Bin)))\n",
    "\n",
    "def HexToDec(Bin):\n",
    "    # Result converted to decimal\n",
    "    dec = 0\n",
    "    # Write in reverse order:\n",
    "    # LSB is the first element in the string, MSB is the last\n",
    "    Bin = Bin[::-1]\n",
    "    for index, value in enumerate(Bin):\n",
    "        dec = dec + hexConv.find(value[:])*16**index\n",
    "    return dec\n",
    "\n",
    "def HexToBin(Bin):\n",
    "    return(DecToBin(HexToDec(Bin)))\n",
    "    \n",
    "\n",
    "\n",
    "a = 15\n",
    "print(\"Decimal Number =\", a)\n",
    "print(\"Converted to Bin =\", DecToBin(a))\n",
    "print(\"Converted to Hex =\", DecToHex(a))\n",
    "print(\"\\n --- \\n\")\n",
    "\n",
    "b = \"1101\"\n",
    "print(\"Binary Number =\", b)\n",
    "print(\"Converted to Dec =\", BinToDec(b))\n",
    "print(\"Converted to Hex =\", BinToHex(b))\n",
    "print(\"\\n --- \\n\")\n",
    "\n",
    "c = \"A\"\n",
    "print(\"Hexadecimal Number =\", c)\n",
    "print(\"Converted to Dec =\", HexToDec(c))\n",
    "print(\"Converted to Bin =\", HexToBin(c))"
   ]
  },
  {
   "cell_type": "markdown",
   "metadata": {},
   "source": [
    "2\\. Write a function that converts a 32 bit word into a single precision floating point (i.e. interprets the various bits as sign, mantissa and exponent)"
   ]
  },
  {
   "cell_type": "code",
   "execution_count": 8,
   "metadata": {},
   "outputs": [
    {
     "name": "stdout",
     "output_type": "stream",
     "text": [
      "14660154687488.0\n"
     ]
    }
   ],
   "source": [
    "#ANSWER\n",
    "def BinToDec(Bin):\n",
    "    # Result converted to decimal\n",
    "    dec = 0\n",
    "    # Write in reverse order:\n",
    "    # LSB is the first element in the string, MSB is the last\n",
    "    Bin = Bin[::-1] #string[start:end:step]\n",
    "    for index, value in enumerate(Bin):\n",
    "        #dec = dec + int(value, 2)*2**index\n",
    "        dec = dec + binConv.find(value[:])*2**index\n",
    "    return dec\n",
    "\n",
    "\n",
    "def convert_precision(x):\n",
    "    if (len(x)>32): return print('Wrong input')\n",
    "    elif (x[0]=='0'): s='1' \n",
    "    elif (x[0]=='1'): s='-1'\n",
    "    exp=BinToDec(('00'+x[1:9]))\n",
    "    mantissa = 1\n",
    "    for i in range(len(x[9:])):\n",
    "        mantissa += int(x[9+i])*2**(-i-1)\n",
    "    res=int(s)*mantissa*2**(exp-127)\n",
    "    return res\n",
    "    \n",
    "print(convert_precision('01010101010101010101010101010101'))"
   ]
  },
  {
   "cell_type": "markdown",
   "metadata": {},
   "source": [
    "3\\. Write a program to determine the underflow and overflow limits (within a factor of 2) for python on your computer. \n",
    "\n",
    "**Tips**: define two variables inizialized to 1 and halve/double them enough time to exceed the under/over-flow limits  "
   ]
  },
  {
   "cell_type": "code",
   "execution_count": 9,
   "metadata": {},
   "outputs": [
    {
     "name": "stdout",
     "output_type": "stream",
     "text": [
      "Overflow limit: 8.99e+307\n",
      "Underflow limit: 5e-324\n"
     ]
    }
   ],
   "source": [
    "#ANSWER\n",
    "import sys\n",
    "\n",
    "under=1\n",
    "over=1\n",
    "\n",
    "#overflow limit\n",
    "i=0\n",
    "while (i<2000):    \n",
    "    try: \n",
    "        over *= 2\n",
    "        i += 1\n",
    "        \"{:.2e}\".format(over)\n",
    "    except:\n",
    "        print('Overflow limit:',\"{:.2e}\".format(over/2))\n",
    "        break\n",
    "\n",
    "#underflow limit\n",
    "while (under/2 != 0.0):  #in underflow -> 0.0\n",
    "    under /=2 \n",
    "print('Underflow limit:',under)"
   ]
  },
  {
   "cell_type": "markdown",
   "metadata": {},
   "source": [
    "4\\. Write a program to determine the machine precision\n",
    "\n",
    "**Tips**: define a new variable by adding a smaller and smaller value (proceeding similarly to prob. 2) to an original variable and check the point where the two are the same "
   ]
  },
  {
   "cell_type": "code",
   "execution_count": 10,
   "metadata": {},
   "outputs": [
    {
     "name": "stdout",
     "output_type": "stream",
     "text": [
      "Machine precision:  1.1102230246251565e-16\n"
     ]
    }
   ],
   "source": [
    "#ANSWER\n",
    "epsilon=1\n",
    "\n",
    "while(epsilon+1 != 1):\n",
    "    epsilon/=2\n",
    "print('Machine precision: ',epsilon)"
   ]
  },
  {
   "cell_type": "markdown",
   "metadata": {},
   "source": [
    "5\\. Write a function that takes in input three parameters $a$, $b$ and $c$ and prints out the two solutions to the quadratic equation $ax^2+bx+c=0$ using the standard formula:\n",
    "$$\n",
    "x=\\frac{-b\\pm\\sqrt{b^2-4ac}}{2a}\n",
    "$$\n",
    "\n",
    "(a) use the program to compute the solution for $a=0.001$, $b=1000$ and $c=0.001$\n",
    "\n",
    "(b) re-express the standard solution formula by multiplying top and bottom by $-b\\mp\\sqrt{b^2-4ac}$ and again find the solution for $a=0.001$, $b=1000$ and $c=0.001$. How does it compare with what previously obtained? Why?\n",
    "\n",
    "(c) write a function that compute the roots of a quadratic equation accurately in all cases"
   ]
  },
  {
   "cell_type": "code",
   "execution_count": 12,
   "metadata": {},
   "outputs": [
    {
     "name": "stdout",
     "output_type": "stream",
     "text": [
      "(-999999.999999, -9.999894245993346e-07)\n",
      "(-999999.9999989999, -9.999894245993346e-07)\n",
      "(-1.000000000001e-06, -999999.999999)\n"
     ]
    }
   ],
   "source": [
    "def quad_eq(a,b,c):\n",
    "    num1=(-b-(b**2-4*a*c)**0.5)\n",
    "    num2=(-b+(b**2-4*a*c)**0.5)\n",
    "    \n",
    "    x1=num1/(2*a)\n",
    "    x2=num2/(2*a)\n",
    "    \n",
    "    return x1,x2\n",
    "\n",
    "\n",
    "def quad_eq2(a,b,c):\n",
    "    num1=(-b-(b**2-4*a*c)**0.5)\n",
    "    num2=(-b+(b**2-4*a*c)**0.5)\n",
    "    \n",
    "    y1=num1/(2*a)*num2/num2\n",
    "    y2=num2/(2*a)*num1/num1\n",
    "    \n",
    "    return y1, y2\n",
    "\n",
    "def quad_eq_stable(a,b,c):\n",
    "    delta2 = b**2 - 4*a*c\n",
    "    if(delta2 < 0): return(False)\n",
    "    else:\n",
    "        if(b<0):\n",
    "            x1 =  2*c / (-b+delta2**0.5)    # avoids cancellation in the denominator\n",
    "            x2 = (-b + delta2**0.5) / (2*a) # avoids cancellation in the numerator\n",
    "        else:\n",
    "            x1 =  -2*c / (b+delta2**0.5)    # avoids cancellation in the denominator\n",
    "            x2 = (-b - delta2**0.5) / (2*a) # avoids cancellation in the numerator\n",
    "        return(x1, x2)\n",
    "\n",
    "#Part a\n",
    "print(quad_eq(0.001,1000,0.001))\n",
    "\n",
    "#Part b\n",
    "print(quad_eq2(0.001,1000,0.001))\n",
    "\n",
    "#While the bigger solution does not change, the smaller one becomes apparently more precise with the second function.\n",
    "#This is the case because num2/num2 is clearly different than 1 due to the computer architecture finite accuracy.\n",
    "\n",
    "#Part c\n",
    "print(quad_eq_stable(0.001,1000,0.001))"
   ]
  },
  {
   "cell_type": "markdown",
   "metadata": {},
   "source": [
    "6\\. Write a program that implements the function $f(x)=x(x−1)$\n",
    "\n",
    "(a) Calculate the derivative of the function at the point $x = 1$ using the derivative definition:\n",
    "\n",
    "$$\n",
    "\\frac{{\\rm d}f}{{\\rm d}x} = \\lim_{\\delta\\to0} \\frac{f(x+\\delta)-f(x)}{\\delta}\n",
    "$$\n",
    "\n",
    "with $\\delta = 10^{−2}$. Calculate the true value of the same derivative analytically and compare with the answer your program gives. The two will not agree perfectly. Why not?\n",
    "\n",
    "(b) Repeat the calculation for $\\delta = 10^{−4}, 10^{−6}, 10^{−8}, 10^{−10}, 10^{−12}$ and $10^{−14}$. How does the accuracy scales with $\\delta$?"
   ]
  },
  {
   "cell_type": "code",
   "execution_count": 13,
   "metadata": {},
   "outputs": [
    {
     "name": "stdout",
     "output_type": "stream",
     "text": [
      "Analytical results (in x=1) = 1\n",
      "Delta | Derivative | Accuracy\n",
      "0.01 | 1.010000000000001 | 0.010000000000000897\n",
      "0.0001 | 1.0000999999998899 | 9.999999988985486e-05\n",
      "1e-06 | 1.0000009999177333 | 9.99917733279787e-07\n",
      "1e-07 | 1.0000001005838672 | 1.0058386723521551e-07\n",
      "1e-08 | 1.0000000039225287 | 3.922528746258536e-09\n",
      "1e-10 | 1.000000082840371 | 8.284037100736441e-08\n",
      "1e-12 | 1.0000889005833413 | 8.890058334132256e-05\n",
      "1e-14 | 0.9992007221626509 | 0.0007992778373491216\n"
     ]
    }
   ],
   "source": [
    "#ANSWER\n",
    "def func(x):\n",
    "    return(x*(x-1))\n",
    "\n",
    "print(\"Analytical results (in x=1) =\", 1)\n",
    "delta = [1e-02, 1e-04, 1e-06, 1e-07, 1e-08, 1e-10, 1e-12, 1e-14]\n",
    "print(\"Delta\", \"|\", \"Derivative\", \"|\", \"Accuracy\")\n",
    "for d in delta:\n",
    "    der = (func(1 + d) - func(1)) / d\n",
    "    accuracy = abs(1 - der) / 1\n",
    "    print(d, \"|\", der, \"|\", accuracy)"
   ]
  },
  {
   "cell_type": "markdown",
   "metadata": {},
   "source": [
    "7\\. Consider the integral of the semicircle of radius 1:\n",
    "$$\n",
    "I=\\int_{-1}^{1} \\sqrt(1-x^2) {\\rm d}x\n",
    "$$\n",
    "which it's known to be $I=\\frac{\\pi}{2}=1.57079632679...$.\n",
    "Alternatively we can use the Riemann definition of the integral:\n",
    "$$\n",
    "I=\\lim_{N\\to\\infty} \\sum_{k=1}^{N} h y_k \n",
    "$$\n",
    "\n",
    "with $h=2/N$ the width of each of the $N$ slices the domain is divided into and where\n",
    "$y_k$ is the value of the function at the $k-$th slice.\n",
    "\n",
    "(a) Write a programe to compute the integral with $N=100$. How does the result compares to the true value?\n",
    "\n",
    "(b) How much can $N$ be increased if the computation needs to be run in less than a second? What is the gain in running it for 1 minute? \n"
   ]
  },
  {
   "cell_type": "code",
   "execution_count": 14,
   "metadata": {},
   "outputs": [
    {
     "name": "stderr",
     "output_type": "stream",
     "text": [
      "/anaconda3/lib/python3.7/site-packages/ipykernel_launcher.py:9: DeprecationWarning: time.clock has been deprecated in Python 3.3 and will be removed from Python 3.8: use time.perf_counter or time.process_time instead\n",
      "  if __name__ == '__main__':\n",
      "/anaconda3/lib/python3.7/site-packages/ipykernel_launcher.py:18: DeprecationWarning: time.clock has been deprecated in Python 3.3 and will be removed from Python 3.8: use time.perf_counter or time.process_time instead\n"
     ]
    },
    {
     "name": "stdout",
     "output_type": "stream",
     "text": [
      "Riemann:  1.5707937910736005 with N =  620300\n",
      "Difference with true value 2.535721296048621e-06\n",
      "2.883619999999951 seconds\n"
     ]
    },
    {
     "name": "stderr",
     "output_type": "stream",
     "text": [
      "/anaconda3/lib/python3.7/site-packages/ipykernel_launcher.py:17: DeprecationWarning: time.clock has been deprecated in Python 3.3 and will be removed from Python 3.8: use time.perf_counter or time.process_time instead\n"
     ]
    },
    {
     "name": "stdout",
     "output_type": "stream",
     "text": [
      "Riemann:  1.5707963056897256 with N =  74436000\n",
      "Difference with true value 2.1105170944224483e-08\n",
      "54.26754600000004 seconds\n"
     ]
    },
    {
     "data": {
      "text/plain": [
       "54.26758999999993"
      ]
     },
     "execution_count": 14,
     "metadata": {},
     "output_type": "execute_result"
    }
   ],
   "source": [
    "import math\n",
    "import numpy as np\n",
    "import time \n",
    "\n",
    "def semicirc(x):\n",
    "    return math.sqrt(1.-x**2)\n",
    "\n",
    "def Riemann(N=100, output=False):\n",
    "    start = time.clock()\n",
    "    h = 2/N\n",
    "    I = 0.\n",
    "    for i in np.linspace(-1,1,N):\n",
    "            I+=h*semicirc(i)\n",
    "    if output == True:\n",
    "        print(\"Riemann: \",I,'with N = ',N)\n",
    "        print(\"Difference with true value\", np.fabs(I - math.pi/2))\n",
    "        print(time.clock() - start, \"seconds\")\n",
    "    return time.clock() - start\n",
    "\n",
    "N = 200000\n",
    "while Riemann(N) < 1:\n",
    "    N+=100\n",
    "\n",
    "Riemann(N,True)\n",
    "Riemann(N*120,True)\n"
   ]
  },
  {
   "cell_type": "markdown",
   "metadata": {},
   "source": [
    "The program was run for about 3 seconds and then for about a minute. The improvement in accuracy is of pretty much two orders of magnitude, but since with $t=3$ s we get an accuracy of order $10^{-6}$, that would probably be enough for most practical applications."
   ]
  },
  {
   "cell_type": "code",
   "execution_count": null,
   "metadata": {},
   "outputs": [],
   "source": []
  }
 ],
 "metadata": {
  "kernelspec": {
   "display_name": "Python 3",
   "language": "python",
   "name": "python3"
  },
  "language_info": {
   "codemirror_mode": {
    "name": "ipython",
    "version": 3
   },
   "file_extension": ".py",
   "mimetype": "text/x-python",
   "name": "python",
   "nbconvert_exporter": "python",
   "pygments_lexer": "ipython3",
   "version": "3.7.0"
  }
 },
 "nbformat": 4,
 "nbformat_minor": 2
}
