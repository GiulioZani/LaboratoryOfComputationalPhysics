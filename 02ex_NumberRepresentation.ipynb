{
 "cells": [
  {
   "cell_type": "markdown",
   "metadata": {},
   "source": [
    "1\\. Write a function that converts number representation (bin<->dec<->hex)"
   ]
  },
  {
   "cell_type": "code",
   "execution_count": 4,
   "metadata": {},
   "outputs": [
    {
     "name": "stdout",
     "output_type": "stream",
     "text": [
      "Hexadecimal to Binary: \n",
      "101111 \n",
      "Hexadecimal to Decimal: \n",
      "47\n",
      "Binary to Hexadecimal: \n",
      "2F \n",
      "Binary to Decimal: \n",
      "47\n",
      "Decimal to Hexadecimal: \n",
      "2F \n",
      "Decimal to Binary: \n",
      "101111 \n"
     ]
    }
   ],
   "source": [
    "def DecimalToBinary(dec_n):\n",
    "    bin_n=\" \" #to store result\n",
    "    while(dec_n>0):\n",
    "        bin_n = str(dec_n % 2) + bin_n #add dec_n % 2 at the beginning of the string\n",
    "        dec_n=dec_n//2 #halve the input \n",
    "    return bin_n    \n",
    "\n",
    "\n",
    "def DecimalToHexadecimal(dec_n):\n",
    "    hex_n=\" \" #to store result\n",
    "    hex_digits=\"0123456789ABCDEF\" #hexadecimal digits\n",
    "    while(dec_n>0):\n",
    "        hex_n = hex_digits[dec_n % 16] + hex_n #add dec_n % 16 at the beginning of the string\n",
    "        dec_n=dec_n//16 #halve the input \n",
    "    return hex_n \n",
    "\n",
    "\n",
    "def BinaryToDecimal(bin_n):\n",
    "    number = 0\n",
    "    counter = 0\n",
    "    for i in bin_n[::-1]: # Iterating through bin_n in reverse order\n",
    "        number += int(i)*(2**counter)\n",
    "        counter += 1\n",
    "    return number    \n",
    "    \n",
    "\n",
    "def HexadecimalToDecimal(hex_n):\n",
    "    dec_n = 0\n",
    "    for i,d in enumerate(hex_n) : \n",
    "        hex_digits = \"0123456789ABCDEF\"\n",
    "        value= hex_digits.index(d) # 0 to 15\n",
    "        #index = string.index(i)\n",
    "        power = (len(hex_n) -(i+1)) #power of 16\n",
    "        dec_n += (value*16**power)\n",
    "    return dec_n\n",
    "\n",
    "\n",
    "def BinaryToHexadecimal(bin_n):\n",
    "    return DecimalToHexadecimal(BinaryToDecimal(bin_n))\n",
    "\n",
    "\n",
    "def HexadecimalToBinary(hex_n):\n",
    "    return DecimalToBinary(HexadecimalToDecimal(hex_n))\n",
    "          \n",
    "Decimal_number=47\n",
    "Binary_number=\"101111\"\n",
    "Hexadecimal_number=\"2F\"\n",
    "\n",
    "print(\"Hexadecimal to Binary: \")\n",
    "print(HexadecimalToBinary(Hexadecimal_number))\n",
    "\n",
    "print(\"Hexadecimal to Decimal: \")\n",
    "print(HexadecimalToDecimal(Hexadecimal_number))\n",
    "\n",
    "print(\"Binary to Hexadecimal: \")\n",
    "print(BinaryToHexadecimal(Binary_number))\n",
    "\n",
    "print(\"Binary to Decimal: \")\n",
    "print(BinaryToDecimal(Binary_number))\n",
    "\n",
    "print(\"Decimal to Hexadecimal: \")\n",
    "print(DecimalToHexadecimal(Decimal_number))\n",
    "\n",
    "print(\"Decimal to Binary: \")\n",
    "print(DecimalToBinary(Decimal_number))"
   ]
  },
  {
   "cell_type": "markdown",
   "metadata": {},
   "source": [
    "2\\. Write a function that converts a 32 bit word into a single precision floating point (i.e. interprets the various bits as sign, mantissa and exponent)"
   ]
  },
  {
   "cell_type": "code",
   "execution_count": 5,
   "metadata": {},
   "outputs": [
    {
     "name": "stdout",
     "output_type": "stream",
     "text": [
      "6.493599213936392e+24\n"
     ]
    }
   ],
   "source": [
    "def BinaryToDecimal(bin_n):\n",
    "    number = 0\n",
    "    counter = 0\n",
    "    for i in bin_n[::-1]: # Iterating through bin_n in reverse order\n",
    "        number += int(i)*(2**counter)\n",
    "        counter += 1\n",
    "    return number \n",
    "\n",
    "#a=\"123456789\"\n",
    "#print(a[1:6])\n",
    "\n",
    "def ConversionToFloat(bin_float):\n",
    "    if(int(bin_float[0])==0):\n",
    "        sign=1\n",
    "    elif(int(bin_float[0])==1):\n",
    "        sign=-1    \n",
    "    exponent=(BinaryToDecimal(bin_float[1:9]) - 127)\n",
    "    mantissa=1 \n",
    "    for i in range(0,len(bin_float[9:])):\n",
    "        mantissa=mantissa+(int(bin_float[9+i])*2**(-i-1))\n",
    "    return sign*mantissa*2**exponent    \n",
    "\n",
    "\n",
    "print(ConversionToFloat(\"01101000101010111110001001010111\"))\n",
    "    \n",
    "    "
   ]
  },
  {
   "cell_type": "markdown",
   "metadata": {},
   "source": [
    "3\\. Write a program to determine the underflow and overflow limits (within a factor of 2) for python on your computer. \n",
    "\n",
    "**Tips**: define two variables inizialized to 1 and halve/double them enough time to exceed the under/over-flow limits  "
   ]
  },
  {
   "cell_type": "code",
   "execution_count": 6,
   "metadata": {
    "scrolled": false
   },
   "outputs": [
    {
     "name": "stdout",
     "output_type": "stream",
     "text": [
      "Underflow limit:\n",
      "5e-324\n",
      "No integer overflow was found\n"
     ]
    }
   ],
   "source": [
    "underflow=1\n",
    "overflow=1\n",
    "\n",
    "#underflow\n",
    "while(underflow!=0):\n",
    "    prev_under=underflow\n",
    "    underflow/=2\n",
    "    \n",
    "print(\"Underflow limit:\") \n",
    "print(prev_under)\n",
    "\n",
    "\n",
    "#overflow\n",
    "i=0\n",
    "while(i < 2000):\n",
    "    try:\n",
    "        overflow*=2\n",
    "        i+=1\n",
    "    except:\n",
    "        print(\"Overflow:\", overflow)\n",
    "print(\"No integer overflow was found\")"
   ]
  },
  {
   "cell_type": "markdown",
   "metadata": {},
   "source": [
    "4\\. Write a program to determine the machine precision\n",
    "\n",
    "**Tips**: define a new variable by adding a smaller and smaller value (proceeding similarly to prob. 2) to an original variable and check the point where the two are the same "
   ]
  },
  {
   "cell_type": "code",
   "execution_count": 7,
   "metadata": {},
   "outputs": [
    {
     "name": "stdout",
     "output_type": "stream",
     "text": [
      "Machine precision:  2.220446049250313e-16\n"
     ]
    }
   ],
   "source": [
    "var1=1\n",
    "var2=1\n",
    "\n",
    "while(var1 != var1+(var2/2)):\n",
    "    var2/=2\n",
    "\n",
    "print(\"Machine precision: \", var2)    "
   ]
  },
  {
   "cell_type": "markdown",
   "metadata": {},
   "source": [
    "5\\. Write a function that takes in input three parameters $a$, $b$ and $c$ and prints out the two solutions to the quadratic equation $ax^2+bx+c=0$ using the standard formula:\n",
    "$$\n",
    "x=\\frac{-b\\pm\\sqrt{b^2-4ac}}{2a}\n",
    "$$\n",
    "\n",
    "(a) use the program to compute the solution for $a=0.001$, $b=1000$ and $c=0.001$\n",
    "\n",
    "(b) re-express the standard solution formula by multiplying top and bottom by $-b\\mp\\sqrt{b^2-4ac}$ and again find the solution for $a=0.001$, $b=1000$ and $c=0.001$. How does it compare with what previously obtained? Why?\n",
    "\n",
    "(c) write a function that compute the roots of a quadratic equation accurately in all cases"
   ]
  },
  {
   "cell_type": "code",
   "execution_count": 8,
   "metadata": {},
   "outputs": [
    {
     "name": "stdout",
     "output_type": "stream",
     "text": [
      "(-9.999894245993346e-07, -999999.999999)\n",
      "(-9.999894245993344e-07, -999999.9999989999)\n"
     ]
    }
   ],
   "source": [
    "#(a)\n",
    "def quadratic(a,b,c):\n",
    "    x1= (-b + (b*b-4*a*c)**0.5)/(2*a)\n",
    "    x2= (-b - (b*b-4*a*c)**0.5)/(2*a)\n",
    "    return x1,x2\n",
    "\n",
    "#(b)\n",
    "def quadratic2(a,b,c):\n",
    "    factor_m=(-b - (b*b-4*a*c))\n",
    "    factor_p=(-b + (b*b-4*a*c))          \n",
    "    x1= (-b + (b*b-4*a*c)**0.5)*factor_m/(2*a*factor_m)\n",
    "    x2= (-b - (b*b-4*a*c)**0.5)*factor_p/(2*a*factor_p)\n",
    "    return x1,x2\n",
    "\n",
    "\n",
    "\n",
    "print(quadratic(0.001,1000, 0.001))\n",
    "print(quadratic2(0.001,1000, 0.001))"
   ]
  },
  {
   "cell_type": "markdown",
   "metadata": {},
   "source": [
    "6\\. Write a program that implements the function $f(x)=x(x−1)$\n",
    "\n",
    "(a) Calculate the derivative of the function at the point $x = 1$ using the derivative definition:\n",
    "\n",
    "$$\n",
    "\\frac{{\\rm d}f}{{\\rm d}x} = \\lim_{\\delta\\to0} \\frac{f(x+\\delta)-f(x)}{\\delta}\n",
    "$$\n",
    "\n",
    "with $\\delta = 10^{−2}$. Calculate the true value of the same derivative analytically and compare with the answer your program gives. The two will not agree perfectly. Why not?\n",
    "\n",
    "(b) Repeat the calculation for $\\delta = 10^{−4}, 10^{−6}, 10^{−8}, 10^{−10}, 10^{−12}$ and $10^{−14}$. How does the accuracy scales with $\\delta$?"
   ]
  },
  {
   "cell_type": "code",
   "execution_count": 9,
   "metadata": {},
   "outputs": [
    {
     "name": "stdout",
     "output_type": "stream",
     "text": [
      "Delta= 0.01\n",
      "Derivative= 1.010000000000001\n",
      "Accuracy= 0.010000000000000897\n",
      "\n",
      "\n",
      "Delta= 0.0001\n",
      "Derivative= 1.0000999999998899\n",
      "Accuracy= 9.999999988985486e-05\n",
      "\n",
      "\n",
      "Delta= 1e-06\n",
      "Derivative= 1.0000009999177333\n",
      "Accuracy= 9.99917733279787e-07\n",
      "\n",
      "\n",
      "Delta= 1e-08\n",
      "Derivative= 1.0000000039225287\n",
      "Accuracy= 3.922528746258536e-09\n",
      "\n",
      "\n",
      "Delta= 1e-10\n",
      "Derivative= 1.000000082840371\n",
      "Accuracy= 8.284037100736441e-08\n",
      "\n",
      "\n",
      "Delta= 1e-12\n",
      "Derivative= 1.0000889005833413\n",
      "Accuracy= 8.890058334132256e-05\n",
      "\n",
      "\n",
      "Delta= 1e-14\n",
      "Derivative= 0.9992007221626509\n",
      "Accuracy= 0.0007992778373491216\n",
      "\n",
      "\n"
     ]
    }
   ],
   "source": [
    "import math\n",
    "\n",
    "delta=[1e-2, 1e-4, 1e-6, 1e-8, 1e-10, 1e-12, 1e-14]\n",
    "x=1\n",
    "\n",
    "def function(x):\n",
    "    return(x*(x-1))\n",
    "\n",
    "def derivative(x, d):\n",
    "    return (function(x+d)-function(x))/d\n",
    "\n",
    "def accuracy(der):\n",
    "    return math.fabs(1-der) #1 is analitically computed derivative\n",
    "\n",
    "for d in delta:\n",
    "    print(\"Delta=\", d)\n",
    "    print(\"Derivative=\", derivative(x,d))\n",
    "    print(\"Accuracy=\", accuracy(derivative(x,d)))\n",
    "    print(\"\\n\")\n",
    "\n"
   ]
  },
  {
   "cell_type": "markdown",
   "metadata": {},
   "source": [
    "7\\. Consider the integral of the semicircle of radius 1:\n",
    "$$\n",
    "I=\\int_{-1}^{1} \\sqrt(1-x^2) {\\rm d}x\n",
    "$$\n",
    "which it's known to be $I=\\frac{\\pi}{2}=1.57079632679...$.\n",
    "Alternatively we can use the Riemann definition of the integral:\n",
    "$$\n",
    "I=\\lim_{N\\to\\infty} \\sum_{k=1}^{N} h y_k \n",
    "$$\n",
    "\n",
    "with $h=2/N$ the width of each of the $N$ slices the domain is divided into and where\n",
    "$y_k$ is the value of the function at the $k-$th slice.\n",
    "\n",
    "(a) Write a programe to compute the integral with $N=100$. How does the result compares to the true value?\n",
    "\n",
    "(b) How much can $N$ be increased if the computation needs to be run in less than a second? What is the gain in running it for 1 minute? \n"
   ]
  },
  {
   "cell_type": "code",
   "execution_count": 11,
   "metadata": {
    "scrolled": true
   },
   "outputs": [
    {
     "name": "stdout",
     "output_type": "stream",
     "text": [
      "N: 100\n",
      "Integral: 1.5534179294048955\n",
      "Accuratezza: 0.01737839739000102\n",
      "Time: 54.36444100000001\n",
      "N: 10000000\n",
      "Integral: 1.5707961696626787\n",
      "Accuratezza:  1.571322179039214e-07\n"
     ]
    }
   ],
   "source": [
    "import numpy as np\n",
    "import time\n",
    "\n",
    "def semicircle(x):\n",
    "    return math.sqrt(1-x**2)\n",
    "\n",
    "def riemann_integral(N):\n",
    "    h=2/N\n",
    "    integral=0\n",
    "    for i in np.linspace(-1,1,N):\n",
    "        integral=integral+h*semicircle(i)\n",
    "    return integral    \n",
    "\n",
    "\n",
    "N=100\n",
    "print(\"N:\", N)\n",
    "print(\"Integral:\",riemann_integral(N))\n",
    "print(\"Accuratezza:\",math.fabs(math.pi/2 - riemann_integral(N)))\n",
    "\n",
    "\n",
    "start=time.clock()\n",
    "N=10000000\n",
    "integral1=riemann_integral(N)\n",
    "time = time.clock()-start\n",
    "print(\"Time:\",time)\n",
    "\n",
    "print(\"N:\", N)\n",
    "print(\"Integral:\", riemann_integral(N))\n",
    "print(\"Accuratezza: \", math.fabs(math.pi/2 - integral1))"
   ]
  },
  {
   "cell_type": "code",
   "execution_count": null,
   "metadata": {},
   "outputs": [],
   "source": []
  },
  {
   "cell_type": "code",
   "execution_count": null,
   "metadata": {},
   "outputs": [],
   "source": []
  }
 ],
 "metadata": {
  "kernelspec": {
   "display_name": "Python 3",
   "language": "python",
   "name": "python3"
  },
  "language_info": {
   "codemirror_mode": {
    "name": "ipython",
    "version": 3
   },
   "file_extension": ".py",
   "mimetype": "text/x-python",
   "name": "python",
   "nbconvert_exporter": "python",
   "pygments_lexer": "ipython3",
   "version": "3.6.9"
  }
 },
 "nbformat": 4,
 "nbformat_minor": 2
}
