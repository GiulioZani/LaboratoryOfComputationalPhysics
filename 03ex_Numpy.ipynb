{
 "cells": [
  {
   "cell_type": "markdown",
   "metadata": {},
   "source": [
    "### Numpy basics"
   ]
  },
  {
   "cell_type": "code",
   "execution_count": 1,
   "metadata": {},
   "outputs": [],
   "source": [
    "import numpy as np"
   ]
  },
  {
   "cell_type": "markdown",
   "metadata": {},
   "source": [
    "1\\. Find the row, column and overall means for the following matrix:\n",
    "\n",
    "```python\n",
    "m = np.arange(12).reshape((3,4))\n",
    "```"
   ]
  },
  {
   "cell_type": "code",
   "execution_count": 2,
   "metadata": {},
   "outputs": [
    {
     "name": "stdout",
     "output_type": "stream",
     "text": [
      "[[ 0  1  2  3]\n",
      " [ 4  5  6  7]\n",
      " [ 8  9 10 11]]\n",
      "[4. 5. 6. 7.]\n",
      "[1.5 5.5 9.5]\n",
      "5.5\n"
     ]
    }
   ],
   "source": [
    "m=np.arange(12).reshape((3,4))\n",
    "print(m)\n",
    "\n",
    "row_mean = m.mean(axis=0)\n",
    "col_mean = m.mean(axis=1)\n",
    "ovl_mean = m.mean()\n",
    "\n",
    "print(row_mean)\n",
    "print(col_mean)\n",
    "print(ovl_mean)"
   ]
  },
  {
   "cell_type": "markdown",
   "metadata": {},
   "source": [
    "2\\. Find the outer product of the following two vecotrs\n",
    "\n",
    "```python\n",
    "u = np.array([1,3,5,7])\n",
    "v = np.array([2,4,6,8])\n",
    "```\n",
    "\n",
    "Do this in the following ways:\n",
    "\n",
    "   * Using the function outer in numpy\n",
    "   * Using a nested for loop or list comprehension\n",
    "   * Using numpy broadcasting operatoins\n"
   ]
  },
  {
   "cell_type": "code",
   "execution_count": 3,
   "metadata": {},
   "outputs": [
    {
     "name": "stdout",
     "output_type": "stream",
     "text": [
      "The matrix in the first way is \n",
      " [[ 2  4  6  8]\n",
      " [ 6 12 18 24]\n",
      " [10 20 30 40]\n",
      " [14 28 42 56]]\n",
      "The matrix in the second way is \n",
      " [[ 2.  4.  6.  8.]\n",
      " [ 6. 12. 18. 24.]\n",
      " [10. 20. 30. 40.]\n",
      " [14. 28. 42. 56.]]\n",
      "The matrix in the third way is \n",
      " [[ 2  4  6  8]\n",
      " [ 6 12 18 24]\n",
      " [10 20 30 40]\n",
      " [14 28 42 56]]\n"
     ]
    }
   ],
   "source": [
    "u = np.array([1,3,5,7])\n",
    "v = np.array([2,4,6,8])\n",
    "\n",
    "\n",
    "#using np.outer\n",
    "m1 = np.outer(u,v)\n",
    "print(\"The matrix in the first way is \\n\", m1)\n",
    "\n",
    "#using nested for loop\n",
    "m2 = np.eye(4)\n",
    "\n",
    "for i in range(len(v)):\n",
    "    for j in range(len(u)):\n",
    "        m2[j,i]=u[j]*v[i]\n",
    "        \n",
    "print(\"The matrix in the second way is \\n\", m2)\n",
    "\n",
    "#broadcasting\n",
    "u1=u.reshape(4,1)\n",
    "m3=u1*v\n",
    "\n",
    "print(\"The matrix in the third way is\", \"\\n\", m3)"
   ]
  },
  {
   "cell_type": "markdown",
   "metadata": {},
   "source": [
    "3\\. Create a 10 by 6 matrix of random uniform numbers. Set all rows with any entry less than 0.1 to be zero\n",
    "\n",
    "Hint: Use the following numpy functions - np.random.random, np.any as well as Boolean indexing and the axis argument."
   ]
  },
  {
   "cell_type": "code",
   "execution_count": 4,
   "metadata": {},
   "outputs": [
    {
     "name": "stdout",
     "output_type": "stream",
     "text": [
      "[[0.80930053 0.09095944 0.39671686 0.21906941 0.38104795 0.67924715]\n",
      " [0.30552073 0.10913202 0.29120589 0.99132199 0.33221622 0.37802081]\n",
      " [0.2900224  0.04525182 0.98565606 0.79563015 0.60117323 0.84144787]\n",
      " [0.70149619 0.30286865 0.19773402 0.13908434 0.14454892 0.43878791]\n",
      " [0.94807265 0.54667386 0.42319412 0.33007028 0.44552398 0.79857482]\n",
      " [0.13651941 0.69668648 0.76635728 0.01959179 0.97995102 0.1760999 ]\n",
      " [0.41229015 0.23215803 0.39090428 0.89052896 0.59178939 0.3820065 ]\n",
      " [0.39172381 0.65573373 0.70728048 0.07030188 0.42132359 0.62745422]\n",
      " [0.54516831 0.91265807 0.96746078 0.74976943 0.89854285 0.32262033]\n",
      " [0.86522616 0.10475733 0.14231817 0.79240526 0.70689984 0.11603494]]\n",
      "\n",
      " [[0.80930053 0.         0.39671686 0.21906941 0.38104795 0.67924715]\n",
      " [0.30552073 0.10913202 0.29120589 0.99132199 0.33221622 0.37802081]\n",
      " [0.2900224  0.         0.98565606 0.79563015 0.60117323 0.84144787]\n",
      " [0.70149619 0.30286865 0.19773402 0.13908434 0.14454892 0.43878791]\n",
      " [0.94807265 0.54667386 0.42319412 0.33007028 0.44552398 0.79857482]\n",
      " [0.13651941 0.69668648 0.76635728 0.         0.97995102 0.1760999 ]\n",
      " [0.41229015 0.23215803 0.39090428 0.89052896 0.59178939 0.3820065 ]\n",
      " [0.39172381 0.65573373 0.70728048 0.         0.42132359 0.62745422]\n",
      " [0.54516831 0.91265807 0.96746078 0.74976943 0.89854285 0.32262033]\n",
      " [0.86522616 0.10475733 0.14231817 0.79240526 0.70689984 0.11603494]]\n"
     ]
    }
   ],
   "source": [
    "matrix = np.random.random((10,6))\n",
    "\n",
    "print(matrix)\n",
    "\n",
    "mask = (matrix<0.1)\n",
    "matrix[mask]=0\n",
    "\n",
    "print(\"\\n\" , matrix)"
   ]
  },
  {
   "cell_type": "markdown",
   "metadata": {},
   "source": [
    "4\\. Use np.linspace to create an array of 100 numbers between 0 and 2π (includsive).\n",
    "\n",
    "  * Extract every 10th element using slice notation\n",
    "  * Reverse the array using slice notation\n",
    "  * Extract elements where the absolute difference between the sine and cosine functions evaluated at that element is less than 0.1\n",
    "  * Make a plot showing the sin and cos functions and indicate where they are close"
   ]
  },
  {
   "cell_type": "code",
   "execution_count": 5,
   "metadata": {},
   "outputs": [
    {
     "name": "stdout",
     "output_type": "stream",
     "text": [
      "[0.         0.06346652 0.12693304 0.19039955 0.25386607 0.31733259\n",
      " 0.38079911 0.44426563 0.50773215 0.57119866 0.63466518 0.6981317\n",
      " 0.76159822 0.82506474 0.88853126 0.95199777 1.01546429 1.07893081\n",
      " 1.14239733 1.20586385 1.26933037 1.33279688 1.3962634  1.45972992\n",
      " 1.52319644 1.58666296 1.65012947 1.71359599 1.77706251 1.84052903\n",
      " 1.90399555 1.96746207 2.03092858 2.0943951  2.15786162 2.22132814\n",
      " 2.28479466 2.34826118 2.41172769 2.47519421 2.53866073 2.60212725\n",
      " 2.66559377 2.72906028 2.7925268  2.85599332 2.91945984 2.98292636\n",
      " 3.04639288 3.10985939 3.17332591 3.23679243 3.30025895 3.36372547\n",
      " 3.42719199 3.4906585  3.55412502 3.61759154 3.68105806 3.74452458\n",
      " 3.8079911  3.87145761 3.93492413 3.99839065 4.06185717 4.12532369\n",
      " 4.1887902  4.25225672 4.31572324 4.37918976 4.44265628 4.5061228\n",
      " 4.56958931 4.63305583 4.69652235 4.75998887 4.82345539 4.88692191\n",
      " 4.95038842 5.01385494 5.07732146 5.14078798 5.2042545  5.26772102\n",
      " 5.33118753 5.39465405 5.45812057 5.52158709 5.58505361 5.64852012\n",
      " 5.71198664 5.77545316 5.83891968 5.9023862  5.96585272 6.02931923\n",
      " 6.09278575 6.15625227 6.21971879 6.28318531]\n",
      "\n",
      "\n",
      "[0.         0.63466518 1.26933037 1.90399555 2.53866073 3.17332591\n",
      " 3.8079911  4.44265628 5.07732146 5.71198664]\n",
      "\n",
      "\n",
      "[6.28318531 6.21971879 6.15625227 6.09278575 6.02931923 5.96585272\n",
      " 5.9023862  5.83891968 5.77545316 5.71198664 5.64852012 5.58505361\n",
      " 5.52158709 5.45812057 5.39465405 5.33118753 5.26772102 5.2042545\n",
      " 5.14078798 5.07732146 5.01385494 4.95038842 4.88692191 4.82345539\n",
      " 4.75998887 4.69652235 4.63305583 4.56958931 4.5061228  4.44265628\n",
      " 4.37918976 4.31572324 4.25225672 4.1887902  4.12532369 4.06185717\n",
      " 3.99839065 3.93492413 3.87145761 3.8079911  3.74452458 3.68105806\n",
      " 3.61759154 3.55412502 3.4906585  3.42719199 3.36372547 3.30025895\n",
      " 3.23679243 3.17332591 3.10985939 3.04639288 2.98292636 2.91945984\n",
      " 2.85599332 2.7925268  2.72906028 2.66559377 2.60212725 2.53866073\n",
      " 2.47519421 2.41172769 2.34826118 2.28479466 2.22132814 2.15786162\n",
      " 2.0943951  2.03092858 1.96746207 1.90399555 1.84052903 1.77706251\n",
      " 1.71359599 1.65012947 1.58666296 1.52319644 1.45972992 1.3962634\n",
      " 1.33279688 1.26933037 1.20586385 1.14239733 1.07893081 1.01546429\n",
      " 0.95199777 0.88853126 0.82506474 0.76159822 0.6981317  0.63466518\n",
      " 0.57119866 0.50773215 0.44426563 0.38079911 0.31733259 0.25386607\n",
      " 0.19039955 0.12693304 0.06346652 0.        ]\n",
      "\n",
      "\n",
      "[0.76159822 0.82506474 3.87145761 3.93492413]\n",
      "\n",
      "\n"
     ]
    },
    {
     "data": {
      "text/plain": [
       "<matplotlib.legend.Legend at 0x1116a22b0>"
      ]
     },
     "execution_count": 5,
     "metadata": {},
     "output_type": "execute_result"
    }
   ],
   "source": [
    "xs = np.linspace(0,2*np.pi, 100)\n",
    "print(xs)\n",
    "print(\"\\n\")\n",
    "\n",
    "xs_10 = xs[::10]\n",
    "print(xs_10)\n",
    "print(\"\\n\")\n",
    "\n",
    "xs_inv = xs[::-1]\n",
    "print(xs_inv)\n",
    "print(\"\\n\")\n",
    "\n",
    "a=np.sin(xs)\n",
    "b=np.cos(xs)\n",
    "delta=np.absolute(a-b)\n",
    "mask = (delta<0.1)\n",
    "pts=xs[mask]\n",
    "print(pts)\n",
    "print(\"\\n\")\n",
    "\n",
    "\n",
    "import matplotlib.pyplot as plt\n",
    "\n",
    "plt.figure()\n",
    "plt.plot(xs, a,\"r\", label=\"sin(x)\")\n",
    "plt.plot(xs,b,\"b\", label=\"cos(x)\")\n",
    "plt.plot(pts, np.cos(pts), \"g*\", label=\"proximity pts\")\n",
    "plt.plot(pts, np.sin(pts), \"g*\") #not necessary, for the sake of completeness\n",
    "\n",
    "plt.legend(loc=\"best\", shadow=\"True\")"
   ]
  },
  {
   "cell_type": "markdown",
   "metadata": {},
   "source": [
    "5\\. Create a matrix that shows the 10 by 10 multiplication table.\n",
    "\n",
    " * Find the trace of the matrix\n",
    " * Extract the anto-diagonal (this should be ```array([10, 18, 24, 28, 30, 30, 28, 24, 18, 10])```)\n",
    " * Extract the diagnoal offset by 1 upwards (this should be ```array([ 2,  6, 12, 20, 30, 42, 56, 72, 90])```)"
   ]
  },
  {
   "cell_type": "code",
   "execution_count": 6,
   "metadata": {},
   "outputs": [
    {
     "name": "stdout",
     "output_type": "stream",
     "text": [
      "[[  1   2   3   4   5   6   7   8   9  10]\n",
      " [  2   4   6   8  10  12  14  16  18  20]\n",
      " [  3   6   9  12  15  18  21  24  27  30]\n",
      " [  4   8  12  16  20  24  28  32  36  40]\n",
      " [  5  10  15  20  25  30  35  40  45  50]\n",
      " [  6  12  18  24  30  36  42  48  54  60]\n",
      " [  7  14  21  28  35  42  49  56  63  70]\n",
      " [  8  16  24  32  40  48  56  64  72  80]\n",
      " [  9  18  27  36  45  54  63  72  81  90]\n",
      " [ 10  20  30  40  50  60  70  80  90 100]] \n",
      "\n",
      "385 \n",
      "\n",
      "[10 18 24 28 30 30 28 24 18 10] \n",
      "\n",
      "[ 2  6 12 20 30 42 56 72 90]\n"
     ]
    }
   ],
   "source": [
    "a=np.arange(1,11).reshape(10,1)\n",
    "b=np.arange(1,11).reshape(1,10)\n",
    "c=np.matmul(a,b)\n",
    "\n",
    "print(c, \"\\n\")\n",
    "print(c.trace(), \"\\n\")\n",
    "print(np.fliplr(c).diagonal(),\"\\n\") #with fliplr I flip the matrix in the left/right direction\n",
    "                                    #and then extract the diagonal of this new matrix\n",
    "print(c.diagonal(1))"
   ]
  },
  {
   "cell_type": "markdown",
   "metadata": {},
   "source": [
    "6\\. Use broadcasting to create a grid of distances\n",
    "\n",
    "Route 66 crosses the following cities in the US: Chicago, Springfield, Saint-Louis, Tulsa, Oklahoma City, Amarillo, Santa Fe, Albuquerque, Flagstaff, Los Angeles\n",
    "The corresponding positions in miles are: 0, 198, 303, 736, 871, 1175, 1475, 1544, 1913, 2448\n",
    "\n",
    "  * Construct a 2D grid of distances among each city along Route 66\n",
    "  * Convert that in km (those savages...)"
   ]
  },
  {
   "cell_type": "code",
   "execution_count": 7,
   "metadata": {},
   "outputs": [
    {
     "name": "stdout",
     "output_type": "stream",
     "text": [
      "[[' ' 'Chi' 'Spr' 'Stl' 'Tul' 'Okl' 'Ama' 'Sfe' 'Alb' 'Flg' 'LA']\n",
      " ['Chi' '0' '319' '488' '1185' '1402' '1892' '2375' '2486' '3080' '3941']\n",
      " ['Spr' '319' '0' '169' '866' '1084' '1573' '2056' '2167' '2761' '3622']\n",
      " ['Stl' '488' '169' '0' '697' '914' '1404' '1887' '1998' '2592' '3453']\n",
      " ['Tul' '1185' '866' '697' '0' '217' '707' '1190' '1301' '1895' '2756']\n",
      " ['Okl' '1402' '1084' '914' '217' '0' '489' '972' '1084' '1678' '2539']\n",
      " ['Ama' '1892' '1573' '1404' '707' '489' '0' '483' '594' '1188' '2050']\n",
      " ['Sfe' '2375' '2056' '1887' '1190' '972' '483' '0' '111' '705' '1567']\n",
      " ['Alb' '2486' '2167' '1998' '1301' '1084' '594' '111' '0' '594' '1455']\n",
      " ['Flg' '3080' '2761' '2592' '1895' '1678' '1188' '705' '594' '0' '861']\n",
      " ['LA' '3941' '3622' '3453' '2756' '2539' '2050' '1567' '1455' '861' '0']]\n"
     ]
    }
   ],
   "source": [
    "cities=np.array([\" \",\"Chi\",\"Spr\",\"Stl\",\"Tul\",\"Okl\",\"Ama\",\"Sfe\",\"Alb\",\"Flg\",\"LA\"]).reshape(1,11)\n",
    "position=np.array([0, 198, 303, 736, 871, 1175, 1475, 1544, 1913, 2448]).reshape(1,10)\n",
    "distance=np.abs(position.reshape(10,1)-position)\n",
    "\n",
    "distance_civil=np.around(distance*1.61,0).astype(int)\n",
    "\n",
    "\"\"\"\n",
    "The conversion to int type is necessary or decimals will make the grid poorly visualizable\n",
    "\"\"\"\n",
    "\n",
    "dist_table=np.concatenate((cities,np.concatenate((cities.T[1:11,:],distance_civil), axis=1)),axis=0)\n",
    "#dist_table2=np.concatenate((cities,np.concatenate((cities.T[1:11,:],distance), axis=1)),axis=0)\n",
    "\n",
    "print(dist_table)"
   ]
  },
  {
   "cell_type": "markdown",
   "metadata": {},
   "source": [
    "7\\. Prime numbers sieve: compute the prime numbers in the 0-N (N=99 to start with) range with a sieve (mask).\n",
    "  * Constract a shape (100,) boolean array, the mask\n",
    "  * Identify the multiples of each number starting from 2 and set accordingly the corresponding mask element\n",
    "  * Apply the mask to obtain an array of ordered prime numbers\n",
    "  * Check the performances (timeit); how does it scale with N?\n",
    "  * Implement the optimization suggested in the [sieve of Eratosthenes](https://en.wikipedia.org/wiki/Sieve_of_Eratosthenes)"
   ]
  },
  {
   "cell_type": "code",
   "execution_count": 8,
   "metadata": {},
   "outputs": [
    {
     "name": "stdout",
     "output_type": "stream",
     "text": [
      "Prime numbers: [ 0  1  2  3  5  7 11 13 17 19 23 29 31 37 41 43 47 53 59 61 67 71 73 79\n",
      " 83 89 97]\n"
     ]
    },
    {
     "data": {
      "image/png": "[encoded data removed]",
      "text/plain": [
       "<Figure size 432x288 with 1 Axes>"
      ]
     },
     "metadata": {
      "needs_background": "light"
     },
     "output_type": "display_data"
    },
    {
     "name": "stdout",
     "output_type": "stream",
     "text": [
      "******* \n",
      "\n",
      "ERATOSTHENES' SIEVE\n",
      "[ 0  1  2  3  5  7 11 13 17 19 23 29 31 37 41 43 47 53 59 61 67 71 73 79\n",
      " 83 89 97]\n"
     ]
    },
    {
     "data": {
      "image/png": "[encoded data removed]",
      "text/plain": [
       "<Figure size 432x288 with 1 Axes>"
      ]
     },
     "metadata": {
      "needs_background": "light"
     },
     "output_type": "display_data"
    }
   ],
   "source": [
    "import time\n",
    "import matplotlib.pyplot as plt\n",
    "\n",
    "def prime(N):\n",
    "    mask=np.array([True for i in range(N)])\n",
    "    N_list=np.arange(N)\n",
    "    for i in range(2,N):\n",
    "        for j in range(2,N):\n",
    "            #if numbers[j]%numbers[j]==0 -> it is not prime\n",
    "            if N_list[i]!=N_list[j] and N_list[i]%N_list[j]==0: \n",
    "                mask[i]=False             \n",
    "    return N_list[mask]\n",
    "\n",
    "print(\"Prime numbers:\",prime(100))\n",
    "\n",
    "#time evaluation\n",
    "timeres=np.zeros((10,2))\n",
    "j=0\n",
    "for i in range(10,110,10):\n",
    "    start_time = time.process_time()\n",
    "    prime(10*i)\n",
    "    timeres[j,0]=i*10\n",
    "    timeres[j,1]=time.process_time() - start_time\n",
    "    j +=1\n",
    " \n",
    "plt.plot(timeres[:,0], timeres[:,1], 'b.')\n",
    "plt.xlabel('Numbers')\n",
    "plt.ylabel('Time (s)')\n",
    "plt.title('Prime function')\n",
    "plt.show()\n",
    "\n",
    "print(\"*******\", \"\\n\")\n",
    "print(\"ERATOSTHENES' SIEVE\")\n",
    "def opt_prime(N):\n",
    "    mask=np.array([True for i in range(N)])\n",
    "    N_list=np.arange(N)\n",
    "    for i in range(2,int(N**0.5)):\n",
    "        if mask[i] == True: \n",
    "            for j in range(i**2, N, i):\n",
    "                mask[j]=False      \n",
    "    prime=N_list[mask]\n",
    "    return prime                \n",
    "\n",
    "print(opt_prime(100))\n",
    "\n",
    "#time evaluation\n",
    "timeres=np.zeros((1000,2))\n",
    "j=0\n",
    "for i in range(10,11000,100):\n",
    "    start_time = time.process_time()\n",
    "    opt_prime(10*i)\n",
    "    timeres[j,0]=i*10\n",
    "    timeres[j,1]=time.process_time() - start_time\n",
    "    j +=1\n",
    "    \n",
    "plt.plot(timeres[:,0], timeres[:,1], 'b.')\n",
    "plt.xlabel('Numbers')\n",
    "plt.ylabel('Time (s)')\n",
    "plt.title('Sieve of Eratosthenes')\n",
    "plt.show()"
   ]
  },
  {
   "cell_type": "markdown",
   "metadata": {},
   "source": [
    "8\\. Diffusion using random walk\n",
    "\n",
    "Consider a simple random walk process: at each step in time, a walker jumps right or left (+1 or -1) with equal probability. The goal is to find the typical distance from the origin of a random walker after a given amount of time. \n",
    "To do that, let's simulate many walkers and create a 2D array with each walker as a raw and the actual time evolution as columns\n",
    "\n",
    "  * Take 1000 walkers and let them walk for 200 steps\n",
    "  * Use randint to create a 2D array of size walkers x steps with values -1 or 1\n",
    "  * Build the actual walking distances for each walker (i.e. another 2D array \"summing on each raw\")\n",
    "  * Take the square of that 2D array (elementwise)\n",
    "  * Compute the mean of the squared distances at each step (i.e. the mean along the columns)\n",
    "  * Plot the average distances (sqrt(distance\\*\\*2)) as a function of time (step)\n",
    "  \n",
    "Did you get what you expected?"
   ]
  },
  {
   "cell_type": "code",
   "execution_count": 9,
   "metadata": {},
   "outputs": [
    {
     "data": {
      "image/png": "[encoded data removed]",
      "text/plain": [
       "<Figure size 432x288 with 1 Axes>"
      ]
     },
     "metadata": {
      "needs_background": "light"
     },
     "output_type": "display_data"
    }
   ],
   "source": [
    "np.random.seed(1183847) #use ID number as random seed\n",
    "steps=200\n",
    "walkers=1000\n",
    "jumps=np.random.randint(0,2,size=(walkers,steps))\n",
    "jumps=jumps*2-1  #this transforms the 0 1 random array into -1 +1 array as requested \n",
    "\n",
    "distance = np.zeros((walkers, steps+1)) #for the distances I also need starting position x=0\n",
    "\n",
    "for i in range(0, steps):\n",
    "    distance[:, i+1] = distance[:, i] + jumps[:, i]\n",
    "# get the actual distance from the starting position (x = 0) in each step\n",
    "distance = abs(distance)\n",
    "mean= np.mean(distance**2, axis=0).reshape(201,1) #the mean is taken column-wise\n",
    "\n",
    "time_mean=np.hstack((1+np.arange(201).reshape(201,1),mean))\n",
    "\n",
    "plt.figure()\n",
    "plt.plot(time_mean[:,0],np.sqrt(time_mean[:,1]),\"r*\",label=\"Walked points\")\n",
    "plt.plot(time_mean[:,0],np.sqrt(time_mean[:,0]),\"b\",label=\"Theoretical prediction\",linewidth=2.0)\n",
    "plt.xlabel(\"Jumps\")\n",
    "plt.ylabel(\"Distance\")\n",
    "plt.legend(shadow=True,loc=\"best\")\n",
    "plt.show()"
   ]
  },
  {
   "cell_type": "markdown",
   "metadata": {},
   "source": [
    "The behaviour of the jumps is perfectly fitted by the theoretical line, which is $(distance)=\\sqrt{(jumps)}$"
   ]
  },
  {
   "cell_type": "markdown",
   "metadata": {},
   "source": [
    "9\\. Analyze a data file \n",
    "  * Download the population of hares, lynxes and carrots at the beginning of the last century.\n",
    "    ```python\n",
    "    ! wget https://www.dropbox.com/s/3vigxoqayo389uc/populations.txt\n",
    "    ```\n",
    "\n",
    "  * Check the content by looking within the file\n",
    "  * Load the data (use an appropriate numpy method) into a 2D array\n",
    "  * Create arrays out of the columns, the arrays being (in order): *year*, *hares*, *lynxes*, *carrots* \n",
    "  * Plot the 3 populations over the years\n",
    "  * Compute the main statistical properties of the dataset (mean, std, correlations, etc.)\n",
    "  * Which species has the highest population each year?\n",
    "\n",
    "Do you feel there is some evident correlation here? [Studies](https://www.enr.gov.nt.ca/en/services/lynx/lynx-snowshoe-hare-cycle) tend to believe so."
   ]
  },
  {
   "cell_type": "code",
   "execution_count": 11,
   "metadata": {},
   "outputs": [
    {
     "data": {
      "image/png": "[encoded data removed]",
      "text/plain": [
       "<Figure size 432x288 with 1 Axes>"
      ]
     },
     "metadata": {
      "needs_background": "light"
     },
     "output_type": "display_data"
    },
    {
     "name": "stdout",
     "output_type": "stream",
     "text": [
      "\n",
      " CARROTS\n",
      "mean 42400.0\n",
      "std 3322.5062255844787\n",
      "median 41800.0\n",
      "min 36700.0\n",
      "max 48300.0\n",
      "\n",
      " HARES\n",
      "mean 34080.95238095238\n",
      "std 20897.906458089667\n",
      "median 25400.0\n",
      "min 7600.0\n",
      "max 77400.0\n",
      "\n",
      " LYNXES\n",
      "mean 20166.666666666668\n",
      "std 16254.591536908763\n",
      "median 12300.0\n",
      "min 4000.0\n",
      "max 59400.0\n",
      "\n",
      " The correlation matrix is \n",
      " [[ 1.          0.07189206 -0.01660378]\n",
      " [ 0.07189206  1.         -0.68057717]\n",
      " [-0.01660378 -0.68057717  1.        ]]\n"
     ]
    }
   ],
   "source": [
    "import numpy as np\n",
    "import matplotlib.pyplot as plt\n",
    "%matplotlib inline\n",
    "\n",
    "data = np.loadtxt('populations.txt')\n",
    "year_list, hares, lynxes, carrots = data.T #using the tricks our Wizard provides us with ;)\n",
    "years_int=year_list.astype(int) \n",
    "\"\"\"\n",
    "The line above is supposed to turn years into integers, which it does.\n",
    "However, the plot still shows years with decimal values. It looks like the best way to fix this\n",
    "is ny using a Pandas time series\n",
    "\"\"\"\n",
    "\n",
    "#plotting\n",
    "plt.figure()\n",
    "plt.plot(year_list,carrots,\"go\")\n",
    "plt.plot(year_list,hares,\"bo\")\n",
    "plt.plot(year_list,lynxes,\"ro\")\n",
    "plt.plot(year_list,carrots,\"g\",label=\"Carrots\", linestyle=\"dashed\")\n",
    "plt.plot(year_list,hares,\"b\",label=\"Hares\",linestyle=\"dashed\")\n",
    "plt.plot(year_list,lynxes,\"r\",label=\"Lynxes\",linestyle=\"dashed\")\n",
    "plt.xlabel(\"Years\")\n",
    "plt.ylabel(\"Popoulation\")\n",
    "plt.title(\"Echosystem behaviour\")\n",
    "plt.legend(shadow=True,loc=\"best\")\n",
    "plt.show()\n",
    "\n",
    "\n",
    "#stat analysis\n",
    "properties=['mean', 'std', 'median', 'min', 'max']\n",
    "\n",
    "print(\"\\n\",'CARROTS')\n",
    "for item in properties:\n",
    "    print(item, getattr(np, item)(carrots))\n",
    "print('\\n','HARES')\n",
    "for item in properties:\n",
    "    print(item, getattr(np, item)(hares))\n",
    "print('\\n','LYNXES')\n",
    "for item in properties:\n",
    "    print(item, getattr(np, item)(lynxes))\n",
    "    \n",
    "print(\"\\n The correlation matrix is\", \"\\n\", np.corrcoef(data[:,1:],rowvar=False))"
   ]
  },
  {
   "cell_type": "markdown",
   "metadata": {},
   "source": [
    "A correlation can be easily spotted (both from a graphical and a statistical standpoint) between hares and lynxes."
   ]
  }
 ],
 "metadata": {
  "kernelspec": {
   "display_name": "Python 3",
   "language": "python",
   "name": "python3"
  },
  "language_info": {
   "codemirror_mode": {
    "name": "ipython",
    "version": 3
   },
   "file_extension": ".py",
   "mimetype": "text/x-python",
   "name": "python",
   "nbconvert_exporter": "python",
   "pygments_lexer": "ipython3",
   "version": "3.7.0"
  }
 },
 "nbformat": 4,
 "nbformat_minor": 2
}
