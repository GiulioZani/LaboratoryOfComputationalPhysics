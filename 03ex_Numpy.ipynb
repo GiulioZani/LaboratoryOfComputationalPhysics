{
 "cells": [
  {
   "cell_type": "markdown",
   "metadata": {},
   "source": [
    "### Numpy basics"
   ]
  },
  {
   "cell_type": "code",
   "execution_count": 1,
   "metadata": {},
   "outputs": [],
   "source": [
    "import numpy as np"
   ]
  },
  {
   "cell_type": "markdown",
   "metadata": {},
   "source": [
    "1\\. Find the row, column and overall means for the following matrix:\n",
    "\n",
    "```python\n",
    "m = np.arange(12).reshape((3,4))\n",
    "```"
   ]
  },
  {
   "cell_type": "code",
   "execution_count": 2,
   "metadata": {},
   "outputs": [
    {
     "name": "stdout",
     "output_type": "stream",
     "text": [
      "[[ 0  1  2  3]\n",
      " [ 4  5  6  7]\n",
      " [ 8  9 10 11]]\n",
      "Overall mean:  5.5 \n",
      "\n",
      "Column mean:  [4. 5. 6. 7.] \n",
      "\n",
      "Row mean:  [1.5 5.5 9.5] \n",
      "\n"
     ]
    }
   ],
   "source": [
    "m = np.arange(12).reshape((3,4))\n",
    "print(m)\n",
    "#overall mean\n",
    "m_mean=m.mean();\n",
    "print(\"Overall mean: \", m_mean, '\\n')\n",
    "#column mean\n",
    "column_mean=m.mean(axis=0);\n",
    "print(\"Column mean: \", column_mean, '\\n')\n",
    "#row mean\n",
    "row_mean=m.mean(axis=1);\n",
    "print(\"Row mean: \", row_mean, '\\n')"
   ]
  },
  {
   "cell_type": "markdown",
   "metadata": {},
   "source": [
    "2\\. Find the outer product of the following two vecotrs\n",
    "\n",
    "```python\n",
    "u = np.array([1,3,5,7])\n",
    "v = np.array([2,4,6,8])\n",
    "```\n",
    "\n",
    "Do this in the following ways:\n",
    "\n",
    "   * Using the function outer in numpy\n",
    "   * Using a nested for loop or list comprehension\n",
    "   * Using numpy broadcasting operatoins\n"
   ]
  },
  {
   "cell_type": "code",
   "execution_count": 3,
   "metadata": {},
   "outputs": [
    {
     "name": "stdout",
     "output_type": "stream",
     "text": [
      "[[ 2  4  6  8]\n",
      " [ 6 12 18 24]\n",
      " [10 20 30 40]\n",
      " [14 28 42 56]]\n",
      "[[1. 0. 0. 0.]\n",
      " [0. 1. 0. 0.]\n",
      " [0. 0. 1. 0.]\n",
      " [0. 0. 0. 1.]]\n",
      "[[ 2.  4.  6.  8.]\n",
      " [ 6. 12. 18. 24.]\n",
      " [10. 20. 30. 40.]\n",
      " [14. 28. 42. 56.]]\n",
      "[[ 2  4  6  8]\n",
      " [ 6 12 18 24]\n",
      " [10 20 30 40]\n",
      " [14 28 42 56]]\n"
     ]
    }
   ],
   "source": [
    "u = np.array([1,3,5,7])\n",
    "v = np.array([2,4,6,8])\n",
    "\n",
    "#function outer\n",
    "out1=np.outer(u,v)\n",
    "print(out1)\n",
    "\n",
    "#nested for loop\n",
    "out2=np.eye(4)\n",
    "print(out2)\n",
    "for i in range(len(u)):\n",
    "    for j in range(len(v)):\n",
    "        out2[i,j]=u[i]*v[j]\n",
    "print(out2) \n",
    "\n",
    "#numpy broadcasting operation\n",
    "u=u.reshape(4,1)\n",
    "out3=u*v\n",
    "print(out3)\n",
    "        "
   ]
  },
  {
   "cell_type": "markdown",
   "metadata": {},
   "source": [
    "3\\. Create a 10 by 6 matrix of random uniform numbers. Set all rows with any entry less than 0.1 to be zero\n",
    "\n",
    "Hint: Use the following numpy functions - np.random.random, np.any as well as Boolean indexing and the axis argument."
   ]
  },
  {
   "cell_type": "code",
   "execution_count": 4,
   "metadata": {},
   "outputs": [
    {
     "name": "stdout",
     "output_type": "stream",
     "text": [
      "[[0.36631579 0.9875042  0.93012583 0.74752081 0.75741251 0.43806579]\n",
      " [0.53496036 0.29938517 0.46396541 0.7957923  0.32886638 0.78083719]\n",
      " [0.59599604 0.98385368 0.91373989 0.5271716  0.3291379  0.54809246]\n",
      " [0.77702358 0.84199332 0.12520754 0.43295957 0.95080756 0.09530274]\n",
      " [0.77299642 0.88462991 0.84601352 0.87888259 0.41086336 0.47397491]\n",
      " [0.54881003 0.04030693 0.43739415 0.85992856 0.0317096  0.4856211 ]\n",
      " [0.57364476 0.63720273 0.32773134 0.94941102 0.01192078 0.66101855]\n",
      " [0.58139746 0.57058711 0.94578688 0.24238284 0.05128167 0.20336765]\n",
      " [0.29183049 0.71196209 0.96676517 0.37821996 0.23469657 0.16161861]\n",
      " [0.48065103 0.38466131 0.51762224 0.0762214  0.0477908  0.85049952]]\n",
      "[[False False False False False False]\n",
      " [False False False False False False]\n",
      " [False False False False False False]\n",
      " [False False False False False  True]\n",
      " [False False False False False False]\n",
      " [False  True False False  True False]\n",
      " [False False False False  True False]\n",
      " [False False False False  True False]\n",
      " [False False False False False False]\n",
      " [False False False  True  True False]]\n",
      "[[0.36631579 0.9875042  0.93012583 0.74752081 0.75741251 0.43806579]\n",
      " [0.53496036 0.29938517 0.46396541 0.7957923  0.32886638 0.78083719]\n",
      " [0.59599604 0.98385368 0.91373989 0.5271716  0.3291379  0.54809246]\n",
      " [0.77702358 0.84199332 0.12520754 0.43295957 0.95080756 0.        ]\n",
      " [0.77299642 0.88462991 0.84601352 0.87888259 0.41086336 0.47397491]\n",
      " [0.54881003 0.         0.43739415 0.85992856 0.         0.4856211 ]\n",
      " [0.57364476 0.63720273 0.32773134 0.94941102 0.         0.66101855]\n",
      " [0.58139746 0.57058711 0.94578688 0.24238284 0.         0.20336765]\n",
      " [0.29183049 0.71196209 0.96676517 0.37821996 0.23469657 0.16161861]\n",
      " [0.48065103 0.38466131 0.51762224 0.         0.         0.85049952]]\n"
     ]
    }
   ],
   "source": [
    "matrix=np.random.random((10,6))\n",
    "print(matrix)\n",
    "mask=(matrix<0.1)\n",
    "print(mask)\n",
    "matrix[mask]=0\n",
    "print(matrix)"
   ]
  },
  {
   "cell_type": "markdown",
   "metadata": {},
   "source": [
    "4\\. Use np.linspace to create an array of 100 numbers between 0 and 2π (includsive).\n",
    "\n",
    "  * Extract every 10th element using slice notation\n",
    "  * Reverse the array using slice notation\n",
    "  * Extract elements where the absolute difference between the sine and cosine functions evaluated at that element is less than 0.1\n",
    "  * Make a plot showing the sin and cos functions and indicate where they are close"
   ]
  },
  {
   "cell_type": "code",
   "execution_count": 5,
   "metadata": {},
   "outputs": [
    {
     "name": "stdout",
     "output_type": "stream",
     "text": [
      "*Use np.linspace to create an array of 100 numbers between 0 and 2π\n",
      "[0.         0.06346652 0.12693304 0.19039955 0.25386607 0.31733259\n",
      " 0.38079911 0.44426563 0.50773215 0.57119866 0.63466518 0.6981317\n",
      " 0.76159822 0.82506474 0.88853126 0.95199777 1.01546429 1.07893081\n",
      " 1.14239733 1.20586385 1.26933037 1.33279688 1.3962634  1.45972992\n",
      " 1.52319644 1.58666296 1.65012947 1.71359599 1.77706251 1.84052903\n",
      " 1.90399555 1.96746207 2.03092858 2.0943951  2.15786162 2.22132814\n",
      " 2.28479466 2.34826118 2.41172769 2.47519421 2.53866073 2.60212725\n",
      " 2.66559377 2.72906028 2.7925268  2.85599332 2.91945984 2.98292636\n",
      " 3.04639288 3.10985939 3.17332591 3.23679243 3.30025895 3.36372547\n",
      " 3.42719199 3.4906585  3.55412502 3.61759154 3.68105806 3.74452458\n",
      " 3.8079911  3.87145761 3.93492413 3.99839065 4.06185717 4.12532369\n",
      " 4.1887902  4.25225672 4.31572324 4.37918976 4.44265628 4.5061228\n",
      " 4.56958931 4.63305583 4.69652235 4.75998887 4.82345539 4.88692191\n",
      " 4.95038842 5.01385494 5.07732146 5.14078798 5.2042545  5.26772102\n",
      " 5.33118753 5.39465405 5.45812057 5.52158709 5.58505361 5.64852012\n",
      " 5.71198664 5.77545316 5.83891968 5.9023862  5.96585272 6.02931923\n",
      " 6.09278575 6.15625227 6.21971879 6.28318531] \n",
      "\n",
      "*Extract every 10th element\n",
      "[0.         0.63466518 1.26933037 1.90399555 2.53866073 3.17332591\n",
      " 3.8079911  4.44265628 5.07732146 5.71198664] \n",
      "\n",
      "*Reverse the array\n",
      "[6.28318531 6.21971879 6.15625227 6.09278575 6.02931923 5.96585272\n",
      " 5.9023862  5.83891968 5.77545316 5.71198664 5.64852012 5.58505361\n",
      " 5.52158709 5.45812057 5.39465405 5.33118753 5.26772102 5.2042545\n",
      " 5.14078798 5.07732146 5.01385494 4.95038842 4.88692191 4.82345539\n",
      " 4.75998887 4.69652235 4.63305583 4.56958931 4.5061228  4.44265628\n",
      " 4.37918976 4.31572324 4.25225672 4.1887902  4.12532369 4.06185717\n",
      " 3.99839065 3.93492413 3.87145761 3.8079911  3.74452458 3.68105806\n",
      " 3.61759154 3.55412502 3.4906585  3.42719199 3.36372547 3.30025895\n",
      " 3.23679243 3.17332591 3.10985939 3.04639288 2.98292636 2.91945984\n",
      " 2.85599332 2.7925268  2.72906028 2.66559377 2.60212725 2.53866073\n",
      " 2.47519421 2.41172769 2.34826118 2.28479466 2.22132814 2.15786162\n",
      " 2.0943951  2.03092858 1.96746207 1.90399555 1.84052903 1.77706251\n",
      " 1.71359599 1.65012947 1.58666296 1.52319644 1.45972992 1.3962634\n",
      " 1.33279688 1.26933037 1.20586385 1.14239733 1.07893081 1.01546429\n",
      " 0.95199777 0.88853126 0.82506474 0.76159822 0.6981317  0.63466518\n",
      " 0.57119866 0.50773215 0.44426563 0.38079911 0.31733259 0.25386607\n",
      " 0.19039955 0.12693304 0.06346652 0.        ] \n",
      "\n",
      "*Extract elements where the absolute difference between the sine and cosine functions evaluated at that element is less than 0.1\n",
      "[0.76159822 0.82506474 3.87145761 3.93492413]\n"
     ]
    },
    {
     "data": {
      "text/plain": [
       "<function matplotlib.pyplot.show(*args, **kw)>"
      ]
     },
     "execution_count": 5,
     "metadata": {},
     "output_type": "execute_result"
    }
   ],
   "source": [
    "import math\n",
    "import matplotlib.pyplot as plt\n",
    "\n",
    "print(\"*Use np.linspace to create an array of 100 numbers between 0 and 2π\")\n",
    "m=np.linspace(0, 2*np.pi, 100)\n",
    "print(m, '\\n')\n",
    "#extract every 10th element\n",
    "print(\"*Extract every 10th element\")\n",
    "extr=m[::10]\n",
    "print(extr, '\\n')\n",
    "#reverse the array\n",
    "print(\"*Reverse the array\")\n",
    "reverse=m[::-1]\n",
    "print(reverse, '\\n')\n",
    "#elements with absolute difference between sine and cosine <0.1\n",
    "print(\"*Extract elements where the absolute difference between the sine and cosine functions evaluated at that element is less than 0.1\")\n",
    "diff=m[abs(np.sin(m)-np.cos(m)) < 0.1]\n",
    "print(diff)\n",
    "\n",
    "plt.plot(m, np.sin(m), 'r')\n",
    "plt.plot(m, np.cos(m), 'g')\n",
    "plt.xlabel(\"x\", size=12)\n",
    "plt.ylabel(\"f(x)\", size=12)\n",
    "plt.plot(diff,np.cos(diff),\"o\")\n",
    "#plt.plot(diff,np.sin(diff),\"o\")\n",
    "plt.show"
   ]
  },
  {
   "cell_type": "markdown",
   "metadata": {},
   "source": [
    "5\\. Create a matrix that shows the 10 by 10 multiplication table.\n",
    "\n",
    " * Find the trace of the matrix\n",
    " * Extract the anto-diagonal (this should be ```array([10, 18, 24, 28, 30, 30, 28, 24, 18, 10])```)\n",
    " * Extract the diagnoal offset by 1 upwards (this should be ```array([ 2,  6, 12, 20, 30, 42, 56, 72, 90])```)"
   ]
  },
  {
   "cell_type": "code",
   "execution_count": 6,
   "metadata": {},
   "outputs": [
    {
     "name": "stdout",
     "output_type": "stream",
     "text": [
      "*Create a matrix that shows the 10 by 10 multiplication table\n",
      "[[  1   2   3   4   5   6   7   8   9  10]\n",
      " [  2   4   6   8  10  12  14  16  18  20]\n",
      " [  3   6   9  12  15  18  21  24  27  30]\n",
      " [  4   8  12  16  20  24  28  32  36  40]\n",
      " [  5  10  15  20  25  30  35  40  45  50]\n",
      " [  6  12  18  24  30  36  42  48  54  60]\n",
      " [  7  14  21  28  35  42  49  56  63  70]\n",
      " [  8  16  24  32  40  48  56  64  72  80]\n",
      " [  9  18  27  36  45  54  63  72  81  90]\n",
      " [ 10  20  30  40  50  60  70  80  90 100]]\n",
      "\n",
      "\n",
      "*Find the trace of the matrix\n",
      "385\n",
      "\n",
      "\n",
      "*Extract the anti-diagonal\n",
      "[10 18 24 28 30 30 28 24 18 10]\n",
      "\n",
      "\n",
      "*Extract the diagnoal offset by 1 upwards\n",
      "[ 2  6 12 20 30 42 56 72 90]\n",
      "\n",
      "\n"
     ]
    }
   ],
   "source": [
    "mult_table = np.arange(1, 11)\n",
    "mult_table= mult_table * mult_table[:, None]\n",
    "\n",
    "print(\"*Create a matrix that shows the 10 by 10 multiplication table\")\n",
    "print(mult_table)\n",
    "print(\"\\n\")\n",
    "\n",
    "print(\"*Find the trace of the matrix\")\n",
    "print(mult_table.trace())\n",
    "print(\"\\n\")\n",
    "\n",
    "print(\"*Extract the anti-diagonal\")\n",
    "print(np.fliplr(mult_table).diagonal())\n",
    "print(\"\\n\")\n",
    "\n",
    "print(\"*Extract the diagnoal offset by 1 upwards\")\n",
    "print(mult_table.diagonal(1))\n",
    "print(\"\\n\")"
   ]
  },
  {
   "cell_type": "markdown",
   "metadata": {},
   "source": [
    "6\\. Use broadcasting to create a grid of distances\n",
    "\n",
    "Route 66 crosses the following cities in the US: Chicago, Springfield, Saint-Louis, Tulsa, Oklahoma City, Amarillo, Santa Fe, Albuquerque, Flagstaff, Los Angeles\n",
    "The corresponding positions in miles are: 0, 198, 303, 736, 871, 1175, 1475, 1544, 1913, 2448\n",
    "\n",
    "  * Construct a 2D grid of distances among each city along Route 66\n",
    "  * Convert that in km (those savages...)"
   ]
  },
  {
   "cell_type": "code",
   "execution_count": 7,
   "metadata": {},
   "outputs": [
    {
     "name": "stdout",
     "output_type": "stream",
     "text": [
      "*Use broadcasting to create a grid of distances\n",
      "[[   0  198  303  736  871 1175 1475 1544 1913 2448]\n",
      " [ 198    0  105  538  673  977 1277 1346 1715 2250]\n",
      " [ 303  105    0  433  568  872 1172 1241 1610 2145]\n",
      " [ 736  538  433    0  135  439  739  808 1177 1712]\n",
      " [ 871  673  568  135    0  304  604  673 1042 1577]\n",
      " [1175  977  872  439  304    0  300  369  738 1273]\n",
      " [1475 1277 1172  739  604  300    0   69  438  973]\n",
      " [1544 1346 1241  808  673  369   69    0  369  904]\n",
      " [1913 1715 1610 1177 1042  738  438  369    0  535]\n",
      " [2448 2250 2145 1712 1577 1273  973  904  535    0]]\n",
      "\n",
      "\n",
      "*Convert that in km\n",
      "[[   0.     318.582  487.527 1184.224 1401.439 1890.575 2373.275 2484.296\n",
      "  3078.017 3938.832]\n",
      " [ 318.582    0.     168.945  865.642 1082.857 1571.993 2054.693 2165.714\n",
      "  2759.435 3620.25 ]\n",
      " [ 487.527  168.945    0.     696.697  913.912 1403.048 1885.748 1996.769\n",
      "  2590.49  3451.305]\n",
      " [1184.224  865.642  696.697    0.     217.215  706.351 1189.051 1300.072\n",
      "  1893.793 2754.608]\n",
      " [1401.439 1082.857  913.912  217.215    0.     489.136  971.836 1082.857\n",
      "  1676.578 2537.393]\n",
      " [1890.575 1571.993 1403.048  706.351  489.136    0.     482.7    593.721\n",
      "  1187.442 2048.257]\n",
      " [2373.275 2054.693 1885.748 1189.051  971.836  482.7      0.     111.021\n",
      "   704.742 1565.557]\n",
      " [2484.296 2165.714 1996.769 1300.072 1082.857  593.721  111.021    0.\n",
      "   593.721 1454.536]\n",
      " [3078.017 2759.435 2590.49  1893.793 1676.578 1187.442  704.742  593.721\n",
      "     0.     860.815]\n",
      " [3938.832 3620.25  3451.305 2754.608 2537.393 2048.257 1565.557 1454.536\n",
      "   860.815    0.   ]]\n"
     ]
    }
   ],
   "source": [
    "print(\"*Use broadcasting to create a grid of distances\")\n",
    "\n",
    "distances_o=np.array([0, 198, 303, 736, 871, 1175, 1475, 1544, 1913, 2448])\n",
    "distances_v=distances_o.reshape(10,1)\n",
    "grid=abs(distances_v-distances_o)\n",
    "print(grid)\n",
    "print(\"\\n\")\n",
    "\n",
    "print(\"*Convert that in km\")\n",
    "grid_km=grid*1.609\n",
    "print(grid_km)\n"
   ]
  },
  {
   "cell_type": "markdown",
   "metadata": {},
   "source": [
    "7\\. Prime numbers sieve: compute the prime numbers in the 0-N (N=99 to start with) range with a sieve (mask).\n",
    "  * Constract a shape (100,) boolean array, the mask\n",
    "  * Identify the multiples of each number starting from 2 and set accordingly the corresponding mask element\n",
    "  * Apply the mask to obtain an array of ordered prime numbers\n",
    "  * Check the performances (timeit); how does it scale with N?\n",
    "  * Implement the optimization suggested in the [sieve of Eratosthenes](https://en.wikipedia.org/wiki/Sieve_of_Eratosthenes)"
   ]
  },
  {
   "cell_type": "code",
   "execution_count": 8,
   "metadata": {},
   "outputs": [
    {
     "name": "stdout",
     "output_type": "stream",
     "text": [
      "*Identify the multiples of each number starting from 2 and set accordingly the corresponding mask element\n",
      "[False False  True  True False  True False  True False False False  True\n",
      " False  True False False False  True False  True False False False  True\n",
      " False False False False False  True False  True False False False False\n",
      " False  True False False False  True False  True False False False  True\n",
      " False False False False False  True False False False False False  True\n",
      " False  True False False False False False  True False False False  True\n",
      " False  True False False False False False  True False False False  True\n",
      " False False False False False  True False False False False False False\n",
      " False  True False False]\n",
      "\n",
      "\n",
      "*Apply the mask to obtain an array of ordered prime numbers\n",
      "[ 2  3  5  7 11 13 17 19 23 29 31 37 41 43 47 53 59 61 67 71 73 79 83 89\n",
      " 97]\n"
     ]
    },
    {
     "data": {
      "image/png": "[encoded data removed]",
      "text/plain": [
       "<Figure size 432x288 with 1 Axes>"
      ]
     },
     "metadata": {
      "needs_background": "light"
     },
     "output_type": "display_data"
    },
    {
     "name": "stdout",
     "output_type": "stream",
     "text": [
      "*Sieve of Eratosthenes\n",
      "[ 2  3  5  7 11 13 17 19 23 29 31 37 41 43 47 53 59 61 67 71 73 79 83 89\n",
      " 97]\n"
     ]
    },
    {
     "data": {
      "image/png": "[encoded data removed]",
      "text/plain": [
       "<Figure size 432x288 with 1 Axes>"
      ]
     },
     "metadata": {
      "needs_background": "light"
     },
     "output_type": "display_data"
    }
   ],
   "source": [
    "import timeit\n",
    "N=99\n",
    "numbers=np.array([i for i in range(0,N+1)])\n",
    "\n",
    "print(\"*Identify the multiples of each number starting from 2 and set accordingly the corresponding mask element\")\n",
    "def find_prime(N): \n",
    "    mask=np.ones((N+1,), dtype=bool)\n",
    "    mask[0]=mask[1]=False #0 and 1 are not prime numbers\n",
    "    for i in range(1,N+1):\n",
    "        for j in range(2,i):\n",
    "            if (i%j==0):\n",
    "                mask[i]=False\n",
    "    return mask            \n",
    "print(find_prime(99))\n",
    "print(\"\\n\")\n",
    "\n",
    "\n",
    "print(\"*Apply the mask to obtain an array of ordered prime numbers\")\n",
    "prime_numbers=numbers[find_prime(99)]\n",
    "print(prime_numbers)            \n",
    "\n",
    "time=[]\n",
    "N=[]\n",
    "for n in range (2,1000,50):\n",
    "    t=timeit.timeit('find_prime(n)', number=1, globals=globals())\n",
    "    time.append(t)\n",
    "    N.append(n)\n",
    "    \n",
    "plt.plot(N,time, \"o\")\n",
    "plt.title(\"Time performances 'find_prime'\")\n",
    "plt.xlabel(\"N\")\n",
    "plt.ylabel(\"time (s)\")\n",
    "plt.show()\n",
    "\n",
    "def SieveOfEratosthenes(N):\n",
    "    mask=np.ones((N+1,), dtype=bool)\n",
    "    mask[0]=mask[1]=False #0 and 1 are not prime numbers\n",
    "    for i in range(2,int(N**0.5)):\n",
    "        if mask[i]==True:\n",
    "            for j in range(i**2,N+1,i):\n",
    "                mask[j]=False\n",
    "    return mask  \n",
    "\n",
    "\n",
    "print(\"*Sieve of Eratosthenes\")\n",
    "print(numbers[SieveOfEratosthenes(99)])\n",
    "time=[]\n",
    "N=[]\n",
    "for n in range (2,1000,50):\n",
    "    t=timeit.timeit('SieveOfEratosthenes(n)', number=1, globals=globals())\n",
    "    time.append(t)\n",
    "    N.append(n)\n",
    "    \n",
    "plt.plot(N,time, \"o\")\n",
    "plt.title(\"Time performances 'SieveOfEratosthenes'\")\n",
    "plt.xlabel(\"N\")\n",
    "plt.ylabel(\"time (s)\")\n",
    "plt.show()\n",
    "    "
   ]
  },
  {
   "cell_type": "markdown",
   "metadata": {},
   "source": [
    "8\\. Diffusion using random walk\n",
    "\n",
    "Consider a simple random walk process: at each step in time, a walker jumps right or left (+1 or -1) with equal probability. The goal is to find the typical distance from the origin of a random walker after a given amount of time. \n",
    "To do that, let's simulate many walkers and create a 2D array with each walker as a raw and the actual time evolution as columns\n",
    "\n",
    "  * Take 1000 walkers and let them walk for 200 steps\n",
    "  * Use randint to create a 2D array of size walkers x steps with values -1 or 1\n",
    "  * Build the actual walking distances for each walker (i.e. another 2D array \"summing on each raw\")\n",
    "  * Take the square of that 2D array (elementwise)\n",
    "  * Compute the mean of the squared distances at each step (i.e. the mean along the columns)\n",
    "  * Plot the average distances (sqrt(distance\\*\\*2)) as a function of time (step)\n",
    "  \n",
    "Did you get what you expected?"
   ]
  },
  {
   "cell_type": "code",
   "execution_count": 9,
   "metadata": {},
   "outputs": [
    {
     "name": "stdout",
     "output_type": "stream",
     "text": [
      "Jumps 0,1: \n",
      " [[1 1 0 ... 0 1 0]\n",
      " [0 1 1 ... 0 0 0]\n",
      " [1 0 1 ... 1 0 1]\n",
      " ...\n",
      " [1 0 0 ... 0 0 0]\n",
      " [1 1 0 ... 0 0 1]\n",
      " [0 1 0 ... 1 1 0]]\n",
      "Jumps -1,1: \n",
      " [[ 1  1 -1 ... -1  1 -1]\n",
      " [-1  1  1 ... -1 -1 -1]\n",
      " [ 1 -1  1 ...  1 -1  1]\n",
      " ...\n",
      " [ 1 -1 -1 ... -1 -1 -1]\n",
      " [ 1  1 -1 ... -1 -1  1]\n",
      " [-1  1 -1 ...  1  1 -1]]\n",
      "Walking distance: \n",
      " [[  0.   1.   2. ...  -8.  -7.  -8.]\n",
      " [  0.  -1.   0. ...  30.  29.  28.]\n",
      " [  0.   1.   0. ... -14. -15. -14.]\n",
      " ...\n",
      " [  0.   1.   0. ...  10.   9.   8.]\n",
      " [  0.   1.   2. ...  -6.  -7.  -6.]\n",
      " [  0.  -1.   0. ...   4.   5.   4.]]\n",
      "Elementwise square of distance: \n",
      " [[  0.   1.   4. ...  64.  49.  64.]\n",
      " [  0.   1.   0. ... 900. 841. 784.]\n",
      " [  0.   1.   0. ... 196. 225. 196.]\n",
      " ...\n",
      " [  0.   1.   0. ... 100.  81.  64.]\n",
      " [  0.   1.   4. ...  36.  49.  36.]\n",
      " [  0.   1.   0. ...  16.  25.  16.]]\n",
      "Mean of the squared distances at each step: \n",
      " [  0.      1.      2.084   3.088   3.992   5.024   5.88    6.888   7.84\n",
      "   8.696   9.568  10.496  11.692  12.72   13.94   14.872  16.312  17.368\n",
      "  18.184  19.24   20.324  20.952  22.324  23.     24.32   25.328  25.892\n",
      "  27.208  28.452  30.072  30.98   32.248  33.076  34.472  35.456  36.888\n",
      "  38.184  38.848  40.9    41.68   41.74   42.752  43.676  44.576  45.124\n",
      "  46.544  47.736  48.712  49.9    50.52   51.284  51.736  52.752  53.672\n",
      "  54.424  54.816  55.392  55.944  56.936  57.512  58.04   58.928  60.484\n",
      "  62.136  63.32   63.728  64.988  66.736  67.592  69.408  71.824  73.288\n",
      "  74.596  76.112  76.652  77.536  78.536  78.52   79.86   81.232  82.168\n",
      "  83.008  85.7    86.224  87.384  89.112  89.68   91.48   93.188  94.632\n",
      "  94.948  96.04   96.544  97.256  99.356  99.8   100.636 103.184 104.112\n",
      " 105.376 106.092 106.376 106.496 107.848 109.352 110.368 110.76  111.024\n",
      " 112.076 113.64  114.456 115.088 116.912 118.6   119.632 120.144 121.852\n",
      " 123.944 124.348 125.272 125.244 127.248 128.376 128.784 130.852 132.192\n",
      " 134.144 135.328 134.716 134.608 134.692 135.528 137.924 139.528 141.336\n",
      " 143.904 144.304 144.072 144.632 146.784 148.488 149.88  150.884 152.872\n",
      " 153.784 153.384 154.212 154.848 156.776 157.992 159.392 161.456 161.428\n",
      " 162.296 162.524 162.872 163.776 166.632 168.308 168.208 169.164 170.048\n",
      " 171.3   173.704 174.952 176.096 177.156 178.768 180.696 181.6   181.876\n",
      " 183.92  183.968 185.824 185.608 185.496 185.66  187.64  189.148 189.816\n",
      " 191.8   191.896 193.008 194.048 196.076 195.504 195.54  197.632 198.784\n",
      " 200.544 202.528 200.664 200.864 201.816 203.464 205.288 204.904 206.096\n",
      " 207.308 208.888 207.52 ]\n"
     ]
    },
    {
     "data": {
      "text/plain": [
       "<function matplotlib.pyplot.show(*args, **kw)>"
      ]
     },
     "execution_count": 9,
     "metadata": {},
     "output_type": "execute_result"
    },
    {
     "data": {
      "image/png": "[encoded data removed]",
      "text/plain": [
       "<Figure size 432x288 with 1 Axes>"
      ]
     },
     "metadata": {
      "needs_background": "light"
     },
     "output_type": "display_data"
    }
   ],
   "source": [
    "import math\n",
    "\n",
    "walkers=1000\n",
    "steps=200\n",
    "np.random.seed(1234)\n",
    "#simulate jumps for each step with randint\n",
    "jump_sim=np.random.randint(0,2,size=(walkers,steps), dtype='int')\n",
    "print(\"Jumps 0,1: \\n\",jump_sim)\n",
    "jump_sim=jump_sim*2-1\n",
    "print(\"Jumps -1,1: \\n\",jump_sim)\n",
    "\n",
    "#build distances taking sum of each row\n",
    "distances=np.zeros((walkers, steps+1))\n",
    "for i in range(0, steps):\n",
    "    distances[:,i+1]=jump_sim[:,i]+distances[:,i]\n",
    "print(\"Walking distance: \\n\", distances)\n",
    "\n",
    "sqr_distances=np.square(distances)\n",
    "print(\"Elementwise square of distance: \\n\", sqr_distances)\n",
    "\n",
    "column_mean=sqr_distances.mean(axis=0);\n",
    "print(\"Mean of the squared distances at each step: \\n\", column_mean)\n",
    "\n",
    "x=[]\n",
    "y=[]\n",
    "\n",
    "for j in range(0,column_mean.size):\n",
    "    y.append(column_mean[j]**0.5)\n",
    "    x.append(j)\n",
    "\n",
    "    \n",
    "plt.plot(x,y, \"o\")\n",
    "plt.xlabel(\"steps\")\n",
    "plt.ylabel(\"average distance\")\n",
    "plt.show"
   ]
  },
  {
   "cell_type": "markdown",
   "metadata": {},
   "source": [
    "9\\. Analyze a data file \n",
    "  * Download the population of hares, lynxes and carrots at the beginning of the last century.\n",
    "    ```python\n",
    "    ! wget https://www.dropbox.com/s/3vigxoqayo389uc/populations.txt\n",
    "    ```\n",
    "\n",
    "  * Check the content by looking within the file\n",
    "  * Load the data (use an appropriate numpy method) into a 2D array\n",
    "  * Create arrays out of the columns, the arrays being (in order): *year*, *hares*, *lynxes*, *carrots* \n",
    "  * Plot the 3 populations over the years\n",
    "  * Compute the main statistical properties of the dataset (mean, std, correlations, etc.)\n",
    "  * Which species has the highest population each year?\n",
    "\n",
    "Do you feel there is some evident correlation here? [Studies](https://www.enr.gov.nt.ca/en/services/lynx/lynx-snowshoe-hare-cycle) tend to believe so."
   ]
  },
  {
   "cell_type": "code",
   "execution_count": 10,
   "metadata": {},
   "outputs": [
    {
     "data": {
      "image/png": "[encoded data removed]",
      "text/plain": [
       "<Figure size 432x288 with 1 Axes>"
      ]
     },
     "metadata": {
      "needs_background": "light"
     },
     "output_type": "display_data"
    },
    {
     "name": "stdout",
     "output_type": "stream",
     "text": [
      "***Hares***\n",
      "mean: 34080.95238095238\n",
      "std: 20897.906458089667\n",
      "median: 25400.0\n",
      "\n",
      "\n",
      "***Lynxes***\n",
      "mean: 20166.666666666668\n",
      "std: 16254.591536908763\n",
      "median: 12300.0\n",
      "\n",
      "\n",
      "***Carrots***\n",
      "mean: 34080.95238095238\n",
      "std: 20897.906458089667\n",
      "median: 25400.0\n",
      "\n",
      "\n",
      "Correlation matrix: \n",
      "\n",
      "[[ 1.          0.07189206 -0.01660378]\n",
      " [ 0.07189206  1.         -0.68057717]\n",
      " [-0.01660378 -0.68057717  1.        ]]\n"
     ]
    }
   ],
   "source": [
    "data_path=\"./population.txt\"\n",
    "data=np.loadtxt(data_path)\n",
    "\n",
    "#print(data)\n",
    "\n",
    "year=data[:,0]\n",
    "hares=data[:,1]\n",
    "lynxes=data[:,2]\n",
    "carrots=data[:,3]\n",
    "\n",
    "plt.plot(year,hares,\"--o\", label=\"Hares\")\n",
    "plt.plot(year,lynxes,\"--o\", label=\"Lynxes\")\n",
    "plt.plot(year,carrots,\"--o\", label=\"Carrots\")\n",
    "plt.xlabel(\"year\")\n",
    "plt.ylabel(\"population\")\n",
    "plt.legend()\n",
    "plt.show()\n",
    "\n",
    "#Compute the main statistical properties of the dataset\n",
    "stat=['mean', 'std', 'median']\n",
    "\n",
    "print(\"***Hares***\")\n",
    "for comp in stat:\n",
    "    print(comp+\":\", getattr(np,comp)(hares))\n",
    "print(\"\\n\")\n",
    "    \n",
    "print(\"***Lynxes***\")\n",
    "for comp in stat:\n",
    "    print(comp+\":\", getattr(np,comp)(lynxes))\n",
    "print(\"\\n\")\n",
    "    \n",
    "print(\"***Carrots***\")\n",
    "for comp in stat:\n",
    "    print(comp+\":\", getattr(np,comp)(hares))  \n",
    "print(\"\\n\")\n",
    "\n",
    "\n",
    "print(\"Correlation matrix: \\n\")\n",
    "print(np.corrcoef(data[:,1:], rowvar=False))\n",
    "\n",
    "#There seems to be a correlation between Hares and Lynxes populations"
   ]
  },
  {
   "cell_type": "code",
   "execution_count": null,
   "metadata": {},
   "outputs": [],
   "source": []
  }
 ],
 "metadata": {
  "kernelspec": {
   "display_name": "Python 3",
   "language": "python",
   "name": "python3"
  },
  "language_info": {
   "codemirror_mode": {
    "name": "ipython",
    "version": 3
   },
   "file_extension": ".py",
   "mimetype": "text/x-python",
   "name": "python",
   "nbconvert_exporter": "python",
   "pygments_lexer": "ipython3",
   "version": "3.6.9"
  }
 },
 "nbformat": 4,
 "nbformat_minor": 2
}
