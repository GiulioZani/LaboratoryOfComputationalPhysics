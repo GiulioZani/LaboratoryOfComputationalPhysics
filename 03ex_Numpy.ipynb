{
 "cells": [
  {
   "cell_type": "markdown",
   "metadata": {},
   "source": [
    "### Numpy basics"
   ]
  },
  {
   "cell_type": "markdown",
   "metadata": {},
   "source": [
    "1\\. Find the row, column and overall means for the following matrix:\n",
    "\n",
    "```python\n",
    "m = np.arange(12).reshape((3,4))\n",
    "```"
   ]
  },
  {
   "cell_type": "code",
   "execution_count": 2,
   "metadata": {},
   "outputs": [
    {
     "name": "stdout",
     "output_type": "stream",
     "text": [
      "[[ 0  1  2  3]\n",
      " [ 4  5  6  7]\n",
      " [ 8  9 10 11]]\n",
      "media: 5.5\n",
      "media lungo le colonne: [4. 5. 6. 7.]\n",
      "media lungo le righe: [1.5 5.5 9.5]\n"
     ]
    }
   ],
   "source": [
    "import numpy as np\n",
    "m = np.arange(12).reshape((3,4))\n",
    "print(m)\n",
    "\n",
    "\n",
    "print (\"media:\", np.mean(m))\n",
    "print (\"media lungo le colonne:\", np.mean(m,axis=0))\n",
    "print (\"media lungo le righe:\", m.mean(axis=1))"
   ]
  },
  {
   "cell_type": "markdown",
   "metadata": {},
   "source": [
    "2\\. Find the outer product of the following two vecotrs\n",
    "\n",
    "```python\n",
    "u = np.array([1,3,5,7])\n",
    "v = np.array([2,4,6,8])\n",
    "```\n",
    "\n",
    "Do this in the following ways:\n",
    "\n",
    "   * Using the function outer in numpy\n",
    "   * Using a nested for loop or list comprehension\n",
    "   * Using numpy broadcasting operatoins\n"
   ]
  },
  {
   "cell_type": "code",
   "execution_count": 4,
   "metadata": {},
   "outputs": [
    {
     "name": "stdout",
     "output_type": "stream",
     "text": [
      "il prodotto esterno vale: \n",
      " [[ 2  4  6  8]\n",
      " [ 6 12 18 24]\n",
      " [10 20 30 40]\n",
      " [14 28 42 56]]\n",
      "\n",
      " usando i cicli for: \n",
      " [[ 2.  4.  6.  8.]\n",
      " [ 6. 12. 18. 24.]\n",
      " [10. 20. 30. 40.]\n",
      " [14. 28. 42. 56.]]\n",
      "\n",
      " tramite broadcasting: \n",
      "\n",
      "[[ 2  4  6  8]\n",
      " [ 6 12 18 24]\n",
      " [10 20 30 40]\n",
      " [14 28 42 56]]\n"
     ]
    }
   ],
   "source": [
    "import numpy as np\n",
    "u = np.array([1,3,5,7])\n",
    "v = np.array([2,4,6,8])\n",
    "\n",
    "ext1=np.outer(u,v)\n",
    "print(\"il prodotto esterno vale: \\n\",ext1)\n",
    "\n",
    "a=np.empty([4,4])\n",
    "\n",
    "\n",
    "for i in range(4):\n",
    "    for j in range(4):\n",
    "        a[i,j]=u[i]*v[j]\n",
    "print(\"\\n usando i cicli for: \\n\",a)\n",
    "\n",
    "print(\"\\n tramite broadcasting: \\n\")\n",
    "b=u.reshape(4,1)\n",
    "print(b*v)"
   ]
  },
  {
   "cell_type": "markdown",
   "metadata": {},
   "source": [
    "3\\. Create a 10 by 6 matrix of random uniform numbers. Set all rows with any entry less than 0.1 to be zero\n",
    "\n",
    "Hint: Use the following numpy functions - np.random.random, np.any as well as Boolean indexing and the axis argument."
   ]
  },
  {
   "cell_type": "code",
   "execution_count": 3,
   "metadata": {},
   "outputs": [
    {
     "name": "stdout",
     "output_type": "stream",
     "text": [
      "[0.48011735 0.32190169 0.54252381 0.94669219 0.76807612 0.41447537\n",
      " 0.88689567 0.54873359 0.10884432 0.54336886 0.86850712 0.20250753\n",
      " 0.57901285 0.4534026  0.42751987 0.61038772 0.8059736  0.68402714\n",
      " 0.88547778 0.96948595 0.         0.54176122 0.2526013  0.33595963\n",
      " 0.47955946 0.94910958 0.88791129 0.60995305 0.27194057 0.44659406\n",
      " 0.28453391 0.89711633 0.32075713 0.5152906  0.10213014 0.27517081\n",
      " 0.16078966 0.30897191 0.50313027 0.         0.76582023 0.67037292\n",
      " 0.42732506 0.60502876 0.6329119  0.96961917 0.76147036 0.85656379\n",
      " 0.88860572 0.         0.13000803 0.78382188 0.29070613 0.3711177\n",
      " 0.55936007 0.88354521 0.56033783 0.91854271 0.         0.19347263]\n"
     ]
    }
   ],
   "source": [
    "import numpy as np\n",
    "\n",
    "b=np.random.random(60)\n",
    "b.reshape(10,6)\n",
    "\n",
    "#print(b)\n",
    "            \n",
    "b[b<0.1]=0     \n",
    "print(b)\n"
   ]
  },
  {
   "cell_type": "markdown",
   "metadata": {},
   "source": [
    "4\\. Use np.linspace to create an array of 100 numbers between 0 and 2π (includsive).\n",
    "\n",
    "  * Extract every 10th element using slice notation\n",
    "  * Reverse the array using slice notation\n",
    "  * Extract elements where the absolute difference between the sine and cosine functions evaluated at that element is less than 0.1\n",
    "  * Make a plot showing the sin and cos functions and indicate where they are close"
   ]
  },
  {
   "cell_type": "code",
   "execution_count": 5,
   "metadata": {},
   "outputs": [
    {
     "name": "stdout",
     "output_type": "stream",
     "text": [
      "[0.         0.03173326 0.06346652 0.09519978 0.12693304 0.1586663\n",
      " 0.19039955 0.22213281 0.25386607 0.28559933 0.31733259 0.34906585\n",
      " 0.38079911 0.41253237 0.44426563 0.47599889 0.50773215 0.53946541\n",
      " 0.57119866 0.60293192 0.63466518 0.66639844 0.6981317  0.72986496\n",
      " 0.76159822 0.79333148 0.82506474 0.856798   0.88853126 0.92026451\n",
      " 0.95199777 0.98373103 1.01546429 1.04719755 1.07893081 1.11066407\n",
      " 1.14239733 1.17413059 1.20586385 1.23759711 1.26933037 1.30106362\n",
      " 1.33279688 1.36453014 1.3962634  1.42799666 1.45972992 1.49146318\n",
      " 1.52319644 1.5549297  1.58666296 1.61839622 1.65012947 1.68186273\n",
      " 1.71359599 1.74532925 1.77706251 1.80879577 1.84052903 1.87226229\n",
      " 1.90399555 1.93572881 1.96746207 1.99919533 2.03092858 2.06266184\n",
      " 2.0943951  2.12612836 2.15786162 2.18959488 2.22132814 2.2530614\n",
      " 2.28479466 2.31652792 2.34826118 2.37999443 2.41172769 2.44346095\n",
      " 2.47519421 2.50692747 2.53866073 2.57039399 2.60212725 2.63386051\n",
      " 2.66559377 2.69732703 2.72906028 2.76079354 2.7925268  2.82426006\n",
      " 2.85599332 2.88772658 2.91945984 2.9511931  2.98292636 3.01465962\n",
      " 3.04639288 3.07812614 3.10985939 3.14159265]\n"
     ]
    }
   ],
   "source": [
    "A_100=np.linspace(0,np.pi,100)\n",
    "print(A_100)"
   ]
  },
  {
   "cell_type": "code",
   "execution_count": 13,
   "metadata": {},
   "outputs": [
    {
     "name": "stdout",
     "output_type": "stream",
     "text": [
      "[0.         0.31733259 0.63466518 0.95199777 1.26933037 1.58666296\n",
      " 1.90399555 2.22132814 2.53866073 2.85599332]\n",
      "[2.85599332 2.53866073 2.22132814 1.90399555 1.58666296 1.26933037\n",
      " 0.95199777 0.63466518 0.31733259 0.        ]\n"
     ]
    }
   ],
   "source": [
    "A_10=A_100[0:len(A_100):10]\n",
    "print(A_10)\n",
    "\n",
    "A_10=A_10[::-1]\n",
    "print(A_10)"
   ]
  },
  {
   "cell_type": "markdown",
   "metadata": {},
   "source": [
    "5\\. Create a matrix that shows the 10 by 10 multiplication table.\n",
    "\n",
    " * Find the trace of the matrix\n",
    " * Extract the anto-diagonal (this should be ```array([10, 18, 24, 28, 30, 30, 28, 24, 18, 10])```)\n",
    " * Extract the diagnoal offset by 1 upwards (this should be ```array([ 2,  6, 12, 20, 30, 42, 56, 72, 90])```)"
   ]
  },
  {
   "cell_type": "markdown",
   "metadata": {},
   "source": [
    "6\\. Use broadcasting to create a grid of distances\n",
    "\n",
    "Route 66 crosses the following cities in the US: Chicago, Springfield, Saint-Louis, Tulsa, Oklahoma City, Amarillo, Santa Fe, Albuquerque, Flagstaff, Los Angeles\n",
    "The corresponding positions in miles are: 0, 198, 303, 736, 871, 1175, 1475, 1544, 1913, 2448\n",
    "\n",
    "  * Construct a 2D grid of distances among each city along Route 66\n",
    "  * Convert that in km (those savages...)"
   ]
  },
  {
   "cell_type": "markdown",
   "metadata": {},
   "source": [
    "7\\. Prime numbers sieve: compute the prime numbers in the 0-N (N=99 to start with) range with a sieve (mask).\n",
    "  * Constract a shape (100,) boolean array, the mask\n",
    "  * Identify the multiples of each number starting from 2 and set accordingly the corresponding mask element\n",
    "  * Apply the mask to obtain an array of ordered prime numbers\n",
    "  * Check the performances (timeit); how does it scale with N?\n",
    "  * Implement the optimization suggested in the [sieve of Eratosthenes](https://en.wikipedia.org/wiki/Sieve_of_Eratosthenes)"
   ]
  },
  {
   "cell_type": "markdown",
   "metadata": {},
   "source": [
    "8\\. Diffusion using random walk\n",
    "\n",
    "Consider a simple random walk process: at each step in time, a walker jumps right or left (+1 or -1) with equal probability. The goal is to find the typical distance from the origin of a random walker after a given amount of time. \n",
    "To do that, let's simulate many walkers and create a 2D array with each walker as a raw and the actual time evolution as columns\n",
    "\n",
    "  * Take 1000 walkers and let them walk for 200 steps\n",
    "  * Use randint to create a 2D array of size walkers x steps with values -1 or 1\n",
    "  * Build the actual walking distances for each walker (i.e. another 2D array \"summing on each raw\")\n",
    "  * Take the square of that 2D array (elementwise)\n",
    "  * Compute the mean of the squared distances at each step (i.e. the mean along the columns)\n",
    "  * Plot the average distances (sqrt(distance\\*\\*2)) as a function of time (step)\n",
    "  \n",
    "Did you get what you expected?"
   ]
  },
  {
   "cell_type": "markdown",
   "metadata": {},
   "source": [
    "9\\. Analyze a data file \n",
    "  * Download the population of hares, lynxes and carrots at the beginning of the last century.\n",
    "    ```python\n",
    "    ! wget https://www.dropbox.com/s/3vigxoqayo389uc/populations.txt\n",
    "    ```\n",
    "\n",
    "  * Check the content by looking within the file\n",
    "  * Load the data (use an appropriate numpy method) into a 2D array\n",
    "  * Create arrays out of the columns, the arrays being (in order): *year*, *hares*, *lynxes*, *carrots* \n",
    "  * Plot the 3 populations over the years\n",
    "  * Compute the main statistical properties of the dataset (mean, std, correlations, etc.)\n",
    "  * Which species has the highest population each year?\n",
    "\n",
    "Do you feel there is some evident correlation here? [Studies](https://www.enr.gov.nt.ca/en/services/lynx/lynx-snowshoe-hare-cycle) tend to believe so."
   ]
  },
  {
   "cell_type": "code",
   "execution_count": null,
   "metadata": {},
   "outputs": [],
   "source": []
  }
 ],
 "metadata": {
  "kernelspec": {
   "display_name": "Python 3",
   "language": "python",
   "name": "python3"
  },
  "language_info": {
   "codemirror_mode": {
    "name": "ipython",
    "version": 3
   },
   "file_extension": ".py",
   "mimetype": "text/x-python",
   "name": "python",
   "nbconvert_exporter": "python",
   "pygments_lexer": "ipython3",
   "version": "3.7.0"
  }
 },
 "nbformat": 4,
 "nbformat_minor": 2
}
