{
 "cells": [
  {
   "cell_type": "markdown",
   "metadata": {},
   "source": [
    "### Numpy basics"
   ]
  },
  {
   "cell_type": "markdown",
   "metadata": {},
   "source": [
    "1\\. Find the row, column and overall means for the following matrix:\n",
    "\n",
    "```python\n",
    "m = np.arange(12).reshape((3,4))\n",
    "```"
   ]
  },
  {
   "cell_type": "code",
   "execution_count": 5,
   "metadata": {},
   "outputs": [
    {
     "name": "stdout",
     "output_type": "stream",
     "text": [
      "[[ 0  1  2  3]\n",
      " [ 4  5  6  7]\n",
      " [ 8  9 10 11]]\n",
      "media: 5.5\n",
      "media lungo le colonne: [4. 5. 6. 7.]\n",
      "media lungo le righe: [1.5 5.5 9.5]\n"
     ]
    }
   ],
   "source": [
    "import numpy as np\n",
    "import matplotlib.pyplot as plt\n",
    "%matplotlib inline\n",
    "\n",
    "m = np.arange(12).reshape((3,4))\n",
    "print(m)\n",
    "\n",
    "\n",
    "print (\"media:\", np.mean(m))\n",
    "print (\"media lungo le colonne:\", np.mean(m,axis=0))\n",
    "print (\"media lungo le righe:\", m.mean(axis=1))"
   ]
  },
  {
   "cell_type": "markdown",
   "metadata": {},
   "source": [
    "2\\. Find the outer product of the following two vecotrs\n",
    "\n",
    "```python\n",
    "u = np.array([1,3,5,7])\n",
    "v = np.array([2,4,6,8])\n",
    "```\n",
    "\n",
    "Do this in the following ways:\n",
    "\n",
    "   * Using the function outer in numpy\n",
    "   * Using a nested for loop or list comprehension\n",
    "   * Using numpy broadcasting operatoins\n"
   ]
  },
  {
   "cell_type": "code",
   "execution_count": 2,
   "metadata": {},
   "outputs": [
    {
     "name": "stdout",
     "output_type": "stream",
     "text": [
      "il prodotto esterno vale: \n",
      " [[ 2  4  6  8]\n",
      " [ 6 12 18 24]\n",
      " [10 20 30 40]\n",
      " [14 28 42 56]]\n",
      "\n",
      " usando i cicli for: \n",
      " [[ 2.  4.  6.  8.]\n",
      " [ 6. 12. 18. 24.]\n",
      " [10. 20. 30. 40.]\n",
      " [14. 28. 42. 56.]]\n",
      "\n",
      " tramite broadcasting: \n",
      "\n",
      "[[ 2  4  6  8]\n",
      " [ 6 12 18 24]\n",
      " [10 20 30 40]\n",
      " [14 28 42 56]]\n"
     ]
    }
   ],
   "source": [
    "import numpy as np\n",
    "u = np.array([1,3,5,7])\n",
    "v = np.array([2,4,6,8])\n",
    "\n",
    "ext1=np.outer(u,v)\n",
    "print(\"il prodotto esterno vale: \\n\",ext1)\n",
    "\n",
    "a=np.empty([4,4])\n",
    "\n",
    "\n",
    "for i in range(4):\n",
    "    for j in range(4):\n",
    "        a[i,j]=u[i]*v[j]\n",
    "print(\"\\n usando i cicli for: \\n\",a)\n",
    "\n",
    "print(\"\\n tramite broadcasting: \\n\")\n",
    "b=u.reshape(4,1)\n",
    "print(b*v)"
   ]
  },
  {
   "cell_type": "markdown",
   "metadata": {},
   "source": [
    "3\\. Create a 10 by 6 matrix of random uniform numbers. Set all rows with any entry less than 0.1 to be zero\n",
    "\n",
    "Hint: Use the following numpy functions - np.random.random, np.any as well as Boolean indexing and the axis argument."
   ]
  },
  {
   "cell_type": "code",
   "execution_count": 3,
   "metadata": {},
   "outputs": [
    {
     "name": "stdout",
     "output_type": "stream",
     "text": [
      "[0.67447666 0.49775291 0.49646472 0.77285365 0.35583657 0.2660535\n",
      " 0.53223649 0.24449028 0.25047651 0.         0.25780418 0.26116489\n",
      " 0.44796996 0.16835256 0.96236442 0.39513812 0.93555981 0.34141938\n",
      " 0.         0.32831165 0.85441306 0.70717122 0.96319326 0.46938519\n",
      " 0.4919306  0.         0.55885825 0.99882965 0.65229523 0.62843885\n",
      " 0.13200893 0.         0.58330457 0.3136598  0.84531305 0.6983023\n",
      " 0.40589285 0.         0.41698031 0.68393504 0.17031341 0.\n",
      " 0.64296489 0.68130772 0.60291103 0.82347149 0.33486102 0.45930723\n",
      " 0.17930694 0.17955895 0.32035704 0.43832885 0.57060936 0.78092087\n",
      " 0.55365251 0.63068798 0.96023238 0.39683964 0.93011416 0.4396539 ]\n"
     ]
    }
   ],
   "source": [
    "import numpy as np\n",
    "\n",
    "b=np.random.random(60)\n",
    "b.reshape(10,6)\n",
    "\n",
    "#print(b)\n",
    "            \n",
    "b[b<0.1]=0     \n",
    "print(b)\n"
   ]
  },
  {
   "cell_type": "markdown",
   "metadata": {},
   "source": [
    "4\\. Use np.linspace to create an array of 100 numbers between 0 and 2π (includsive).\n",
    "\n",
    "  * Extract every 10th element using slice notation\n",
    "  * Reverse the array using slice notation\n",
    "  * Extract elements where the absolute difference between the sine and cosine functions evaluated at that element is less than 0.1\n",
    "  * Make a plot showing the sin and cos functions and indicate where they are close"
   ]
  },
  {
   "cell_type": "code",
   "execution_count": 2,
   "metadata": {},
   "outputs": [
    {
     "name": "stdout",
     "output_type": "stream",
     "text": [
      "[0.         0.06346652 0.12693304 0.19039955 0.25386607 0.31733259\n",
      " 0.38079911 0.44426563 0.50773215 0.57119866 0.63466518 0.6981317\n",
      " 0.76159822 0.82506474 0.88853126 0.95199777 1.01546429 1.07893081\n",
      " 1.14239733 1.20586385 1.26933037 1.33279688 1.3962634  1.45972992\n",
      " 1.52319644 1.58666296 1.65012947 1.71359599 1.77706251 1.84052903\n",
      " 1.90399555 1.96746207 2.03092858 2.0943951  2.15786162 2.22132814\n",
      " 2.28479466 2.34826118 2.41172769 2.47519421 2.53866073 2.60212725\n",
      " 2.66559377 2.72906028 2.7925268  2.85599332 2.91945984 2.98292636\n",
      " 3.04639288 3.10985939 3.17332591 3.23679243 3.30025895 3.36372547\n",
      " 3.42719199 3.4906585  3.55412502 3.61759154 3.68105806 3.74452458\n",
      " 3.8079911  3.87145761 3.93492413 3.99839065 4.06185717 4.12532369\n",
      " 4.1887902  4.25225672 4.31572324 4.37918976 4.44265628 4.5061228\n",
      " 4.56958931 4.63305583 4.69652235 4.75998887 4.82345539 4.88692191\n",
      " 4.95038842 5.01385494 5.07732146 5.14078798 5.2042545  5.26772102\n",
      " 5.33118753 5.39465405 5.45812057 5.52158709 5.58505361 5.64852012\n",
      " 5.71198664 5.77545316 5.83891968 5.9023862  5.96585272 6.02931923\n",
      " 6.09278575 6.15625227 6.21971879 6.28318531]\n"
     ]
    }
   ],
   "source": [
    "import numpy as np\n",
    "A_100=np.linspace(0,2*np.pi,100)\n",
    "print(A_100)"
   ]
  },
  {
   "cell_type": "code",
   "execution_count": 3,
   "metadata": {},
   "outputs": [
    {
     "name": "stdout",
     "output_type": "stream",
     "text": [
      "[0.         0.63466518 1.26933037 1.90399555 2.53866073 3.17332591\n",
      " 3.8079911  4.44265628 5.07732146 5.71198664]\n",
      "\n",
      " inverso \n",
      "\n",
      "[5.71198664 5.07732146 4.44265628 3.8079911  3.17332591 2.53866073\n",
      " 1.90399555 1.26933037 0.63466518 0.        ]\n"
     ]
    }
   ],
   "source": [
    "A_10=A_100[0:len(A_100):10]\n",
    "print(A_10)\n",
    "print(\"\\n inverso \\n\")\n",
    "A_10R=A_10[::-1]\n",
    "print(A_10R)"
   ]
  },
  {
   "cell_type": "code",
   "execution_count": 6,
   "metadata": {},
   "outputs": [
    {
     "name": "stdout",
     "output_type": "stream",
     "text": [
      "[0.76159822 0.82506474 3.87145761 3.93492413]\n"
     ]
    },
    {
     "data": {
      "text/plain": [
       "<matplotlib.legend.Legend at 0x115982550>"
      ]
     },
     "execution_count": 6,
     "metadata": {},
     "output_type": "execute_result"
    },
    {
     "data": {
      "image/png": "[encoded data removed]",
      "text/plain": [
       "<Figure size 432x288 with 1 Axes>"
      ]
     },
     "metadata": {
      "needs_background": "light"
     },
     "output_type": "display_data"
    }
   ],
   "source": [
    "A_sin_cos=A_100[np.absolute(np.sin(A_100) - np.cos(A_100))<0.1]\n",
    "print(A_sin_cos)\n",
    "\n",
    "x=np.array(A_100)\n",
    "ys=np.array(np.sin(A_100))\n",
    "yc=np.cos(A_100)\n",
    "\n",
    "plt.plot(x,ys,color='green',label='seno')\n",
    "plt.plot(x,yc,color='yellow',label='coseno')\n",
    "plt.ylabel('f(x)')\n",
    "plt.xlabel('x')\n",
    "plt.xticks(np.arange(0, 3.2, step=0.2))\n",
    "\n",
    "\n",
    "plt.plot(A_sin_cos,np.sin(A_sin_cos),'+',color='red',label='sin dei punti ricavati')\n",
    "plt.plot(A_sin_cos,np.cos(A_sin_cos),'+',color='black',label='cos dei punti ricavati')\n",
    "plt.legend()"
   ]
  },
  {
   "cell_type": "markdown",
   "metadata": {},
   "source": [
    "5\\. Create a matrix that shows the 10 by 10 multiplication table.\n",
    "\n",
    " * Find the trace of the matrix\n",
    " * Extract the anto-diagonal (this should be ```array([10, 18, 24, 28, 30, 30, 28, 24, 18, 10])```)\n",
    " * Extract the diagnoal offset by 1 upwards (this should be ```array([ 2,  6, 12, 20, 30, 42, 56, 72, 90])```)"
   ]
  },
  {
   "cell_type": "code",
   "execution_count": 12,
   "metadata": {},
   "outputs": [
    {
     "name": "stdout",
     "output_type": "stream",
     "text": [
      "matrice delle moltiplicaziobi \n",
      " [[  1   2   3   4   5   6   7   8   9  10]\n",
      " [  2   4   6   8  10  12  14  16  18  20]\n",
      " [  3   6   9  12  15  18  21  24  27  30]\n",
      " [  4   8  12  16  20  24  28  32  36  40]\n",
      " [  5  10  15  20  25  30  35  40  45  50]\n",
      " [  6  12  18  24  30  36  42  48  54  60]\n",
      " [  7  14  21  28  35  42  49  56  63  70]\n",
      " [  8  16  24  32  40  48  56  64  72  80]\n",
      " [  9  18  27  36  45  54  63  72  81  90]\n",
      " [ 10  20  30  40  50  60  70  80  90 100]]\n",
      "traccia:  385\n",
      "antidiagonale \n",
      " [10, 18, 24, 28, 30, 30, 28, 24, 18, 10]\n",
      "diagonale shiftata \n",
      " [2, 6, 12, 20, 30, 42, 56, 72, 90]\n"
     ]
    }
   ],
   "source": [
    "mt=np.array([i*j for i in range(1,11) for j in range(1,11)])\n",
    "MT=mt.reshape(10,10)\n",
    "print('matrice delle moltiplicaziobi \\n',MT)\n",
    "print('traccia: ',np.trace(MT))\n",
    "\n",
    "A_s=[]\n",
    "i=0\n",
    "j=9\n",
    "while i<=9 and j>=0:\n",
    "    A_s.append(MT[i][j])\n",
    "    i+=1\n",
    "    j-=1\n",
    "\n",
    "print('antidiagonale \\n',A_s)\n",
    "\n",
    "L_d=[]\n",
    "I=1\n",
    "J=0\n",
    "while I<=9 and J<=8:\n",
    "    L_d.append(MT[I][J])\n",
    "    I+=1\n",
    "    J+=1\n",
    "\n",
    "print('diagonale shiftata \\n',L_d)\n"
   ]
  },
  {
   "cell_type": "markdown",
   "metadata": {},
   "source": [
    "6\\. Use broadcasting to create a grid of distances\n",
    "\n",
    "Route 66 crosses the following cities in the US: Chicago, Springfield, Saint-Louis, Tulsa, Oklahoma City, Amarillo, Santa Fe, Albuquerque, Flagstaff, Los Angeles\n",
    "The corresponding positions in miles are: 0, 198, 303, 736, 871, 1175, 1475, 1544, 1913, 2448\n",
    "\n",
    "  * Construct a 2D grid of distances among each city along Route 66\n",
    "  * Convert that in km (those savages...)"
   ]
  },
  {
   "cell_type": "code",
   "execution_count": 8,
   "metadata": {},
   "outputs": [
    {
     "name": "stdout",
     "output_type": "stream",
     "text": [
      "[[   0  198  303  736  871 1175 1475 1544 1913 2448]\n",
      " [ 198    0  105  538  673  977 1277 1346 1715 2250]\n",
      " [ 303  105    0  433  568  872 1172 1241 1610 2145]\n",
      " [ 736  538  433    0  135  439  739  808 1177 1712]\n",
      " [ 871  673  568  135    0  304  604  673 1042 1577]\n",
      " [1175  977  872  439  304    0  300  369  738 1273]\n",
      " [1475 1277 1172  739  604  300    0   69  438  973]\n",
      " [1544 1346 1241  808  673  369   69    0  369  904]\n",
      " [1913 1715 1610 1177 1042  738  438  369    0  535]\n",
      " [2448 2250 2145 1712 1577 1273  973  904  535    0]]\n",
      "\n",
      " conversione in km \n",
      "\n",
      "[[   0.   318.6  487.6 1184.5 1401.7 1891.  2373.8 2484.8 3078.7 3939.7]\n",
      " [ 318.6    0.   169.   865.8 1083.1 1572.3 2055.1 2166.2 2760.  3621. ]\n",
      " [ 487.6  169.     0.   696.8  914.1 1403.3 1886.1 1997.2 2591.  3452. ]\n",
      " [1184.5  865.8  696.8    0.   217.3  706.5 1189.3 1300.3 1894.2 2755.2]\n",
      " [1401.7 1083.1  914.1  217.3    0.   489.2  972.  1083.1 1676.9 2537.9]\n",
      " [1891.  1572.3 1403.3  706.5  489.2    0.   482.8  593.8 1187.7 2048.7]\n",
      " [2373.8 2055.1 1886.1 1189.3  972.   482.8    0.   111.   704.9 1565.9]\n",
      " [2484.8 2166.2 1997.2 1300.3 1083.1  593.8  111.     0.   593.8 1454.8]\n",
      " [3078.7 2760.  2591.  1894.2 1676.9 1187.7  704.9  593.8    0.   861. ]\n",
      " [3939.7 3621.  3452.  2755.2 2537.9 2048.7 1565.9 1454.8  861.     0. ]]\n",
      "None\n"
     ]
    }
   ],
   "source": [
    "distance=np.array([0, 198, 303, 736, 871, 1175, 1475, 1544, 1913, 2448])\n",
    "distance=distance.reshape(10,1)\n",
    "#print(distance,distance.shape)\n",
    "\n",
    "distance1=distance.reshape(1,10)\n",
    "#print(distance1)\n",
    "distance1.shape\n",
    "\n",
    "print(np.absolute(distance-distance1))\n",
    "\n",
    "print(\"\\n conversione in km \\n\")\n",
    "\n",
    "print(print(np.round(np.absolute((distance-distance1)*1.60934),1))) "
   ]
  },
  {
   "cell_type": "markdown",
   "metadata": {},
   "source": [
    "7\\. Prime numbers sieve: compute the prime numbers in the 0-N (N=99 to start with) range with a sieve (mask).\n",
    "  * Constract a shape (100,) boolean array, the mask\n",
    "  * Identify the multiples of each number starting from 2 and set accordingly the corresponding mask element\n",
    "  * Apply the mask to obtain an array of ordered prime numbers\n",
    "  * Check the performances (timeit); how does it scale with N?\n",
    "  * Implement the optimization suggested in the [sieve of Eratosthenes](https://en.wikipedia.org/wiki/Sieve_of_Eratosthenes)"
   ]
  },
  {
   "cell_type": "code",
   "execution_count": 59,
   "metadata": {},
   "outputs": [
    {
     "name": "stdout",
     "output_type": "stream",
     "text": [
      "[ 0  1  2  3  5  7 11 13 17 19 23 29 31 37 41 43 47 53 59 61 67 71 73 79\n",
      " 83 89 97]\n"
     ]
    }
   ],
   "source": [
    "numeri=np.arange(0,100,1)\n",
    "#print(numeri)\n",
    "mask=[True,True]\n",
    "for i in range(2,100):\n",
    "    primo=True\n",
    "    for j in range(2,i):\n",
    "        if i%j==0:\n",
    "            primo=False\n",
    "    if primo==True: mask.append(True)\n",
    "    elif primo==False: mask.append(False)\n",
    "\n",
    "#print(mask)\n",
    "print(numeri[mask])"
   ]
  },
  {
   "cell_type": "markdown",
   "metadata": {},
   "source": [
    "8\\. Diffusion using random walk\n",
    "\n",
    "Consider a simple random walk process: at each step in time, a walker jumps right or left (+1 or -1) with equal probability. The goal is to find the typical distance from the origin of a random walker after a given amount of time. \n",
    "To do that, let's simulate many walkers and create a 2D array with each walker as a raw and the actual time evolution as columns\n",
    "\n",
    "  * Take 1000 walkers and let them walk for 200 steps\n",
    "  * Use randint to create a 2D array of size walkers x steps with values -1 or 1\n",
    "  * Build the actual walking distances for each walker (i.e. another 2D array \"summing on each raw\")\n",
    "  * Take the square of that 2D array (elementwise)\n",
    "  * Compute the mean of the squared distances at each step (i.e. the mean along the columns)\n",
    "  * Plot the average distances (sqrt(distance\\*\\*2)) as a function of time (step)\n",
    "  \n",
    "Did you get what you expected?"
   ]
  },
  {
   "cell_type": "code",
   "execution_count": 47,
   "metadata": {},
   "outputs": [
    {
     "data": {
      "text/plain": [
       "Text(0.5,1,'dispersione di un random walker')"
      ]
     },
     "execution_count": 47,
     "metadata": {},
     "output_type": "execute_result"
    },
    {
     "data": {
      "image/png": "[encoded data removed]",
      "text/plain": [
       "<Figure size 432x288 with 1 Axes>"
      ]
     },
     "metadata": {
      "needs_background": "light"
     },
     "output_type": "display_data"
    }
   ],
   "source": [
    "local_position=[]\n",
    "for i in range (1000):\n",
    "    local_positionj=[]\n",
    "    for k in range(200):\n",
    "        j=np.random.choice([-1,1])\n",
    "        local_positionj.append(j)\n",
    "        \n",
    "    local_position.append(local_positionj)\n",
    "\n",
    "\n",
    "steps=np.array(local_position)\n",
    "#print(steps)\n",
    "#troviamo la posizione attuale per ogni walker\n",
    "\n",
    "distance=np.cumsum(local_position,axis=1)\n",
    "#print(distance)\n",
    "distance_s=distance**2\n",
    "#print(distance_s)\n",
    "medie=np.mean(distance_s,axis=0)\n",
    "#print(medie)\n",
    "time=np.array([i for i in range(200)])\n",
    "#print(time)  \n",
    "\n",
    "plt.plot(time,medie**0.5,color='black',label='o')\n",
    "plt.xlabel('time')\n",
    "plt.ylabel('distanza al quadrato')\n",
    "plt.title('dispersione di un random walker')"
   ]
  },
  {
   "cell_type": "markdown",
   "metadata": {},
   "source": [
    "# 9\\. Analyze a data file \n",
    "  * Download the population of hares, lynxes and carrots at the beginning of the last century.\n",
    "    ```python\n",
    "    ! wget https://www.dropbox.com/s/3vigxoqayo389uc/populations.txt\n",
    "    ```\n",
    "\n",
    "  * Check the content by looking within the file\n",
    "  * Load the data (use an appropriate numpy method) into a 2D array\n",
    "  * Create arrays out of the columns, the arrays being (in order): *year*, *hares*, *lynxes*, *carrots* \n",
    "  * Plot the 3 populations over the years\n",
    "  * Compute the main statistical properties of the dataset (mean, std, correlations, etc.)\n",
    "  * Which species has the highest population each year?\n",
    "\n",
    "Do you feel there is some evident correlation here? [Studies](https://www.enr.gov.nt.ca/en/services/lynx/lynx-snowshoe-hare-cycle) tend to believe so."
   ]
  },
  {
   "cell_type": "code",
   "execution_count": 113,
   "metadata": {},
   "outputs": [
    {
     "name": "stdout",
     "output_type": "stream",
     "text": [
      "[30000. 47200. 70200. 77400. 36300. 20600. 18100. 21400. 22000. 25400.\n",
      " 27100. 40300. 57000. 76600. 52300. 19500. 11200.  7600. 14600. 16200.\n",
      " 24700.]\n",
      "media_hare:  34080.95238095238 std:  20897.906458089667\n",
      "media_lynx:  20166.666666666668 std:  16254.591536908763\n",
      "media_carrots:  42400.0 std:  3322.5062255844787\n",
      "1900.0\n",
      "more carrots\n",
      "1901.0\n",
      "more carrots\n",
      "1902.0\n",
      "more hare\n",
      "1903.0\n",
      "more hare\n",
      "1904.0\n",
      "more lynx\n",
      "1905.0\n",
      "more lynx\n",
      "1906.0\n",
      "more carrots\n",
      "1907.0\n",
      "more carrots\n",
      "1908.0\n",
      "more carrots\n",
      "1909.0\n",
      "more carrots\n",
      "1910.0\n",
      "more carrots\n",
      "1911.0\n",
      "more carrots\n",
      "1912.0\n",
      "more hare\n",
      "1913.0\n",
      "more hare\n",
      "1914.0\n",
      "more hare\n",
      "1915.0\n",
      "more lynx\n",
      "1916.0\n",
      "more carrots\n",
      "1917.0\n",
      "more carrots\n",
      "1918.0\n",
      "more carrots\n",
      "1919.0\n",
      "more carrots\n",
      "1920.0\n",
      "more carrots\n"
     ]
    },
    {
     "data": {
      "image/png": "[encoded data removed]",
      "text/plain": [
       "<Figure size 432x288 with 1 Axes>"
      ]
     },
     "metadata": {
      "needs_background": "light"
     },
     "output_type": "display_data"
    },
    {
     "data": {
      "image/png": "[encoded data removed]",
      "text/plain": [
       "<Figure size 432x288 with 1 Axes>"
      ]
     },
     "metadata": {
      "needs_background": "light"
     },
     "output_type": "display_data"
    },
    {
     "data": {
      "image/png": "[encoded data removed]",
      "text/plain": [
       "<Figure size 432x288 with 1 Axes>"
      ]
     },
     "metadata": {
      "needs_background": "light"
     },
     "output_type": "display_data"
    }
   ],
   "source": [
    "file_name='/Users/federicob/data/populations.txt'\n",
    "data=np.loadtxt(file_name)\n",
    "#print(data)\n",
    "\n",
    "print(data[:,1])\n",
    "plt.figure(1)\n",
    "plt.plot(data[:,0],data[:,1],color='orange')\n",
    "plt.xlabel('year')\n",
    "plt.ylabel('hare')\n",
    "plt.figure(2)\n",
    "plt.plot(data[:,0],data[:,2],color='red')\n",
    "plt.xlabel('year')\n",
    "plt.ylabel('lynx')\n",
    "plt.figure(3)\n",
    "plt.plot(data[:,0],data[:,3],color='green')\n",
    "plt.xlabel('year')\n",
    "plt.ylabel('carrots')\n",
    "\n",
    "print('media_hare: ',np.mean(data[:,1]),'std: ',np.std(data[:,1]))\n",
    "print('media_lynx: ',np.mean(data[:,2]),'std: ',np.std(data[:,2]))\n",
    "print('media_carrots: ',np.mean(data[:,3]),'std: ',np.std(data[:,3]))\n",
    "\n",
    "#print('\\n correlazioni: \\n')\n",
    "#print( np.corrcoef(data))\n",
    "\n",
    "for i in range(0,21):\n",
    "    print(data[i,0])\n",
    "    if data[i,1]>data[i,2] and data[i,1]>data[i,3]:\n",
    "        print('more hare')\n",
    "    elif data[i,2]>data[i,1] and data[i,2]>data[i,3]:\n",
    "        print('more lynx')\n",
    "    elif data[i,3]>data[i,1] and data[i,3]>data[i,2]:\n",
    "        print('more carrots')"
   ]
  },
  {
   "cell_type": "code",
   "execution_count": null,
   "metadata": {},
   "outputs": [],
   "source": []
  }
 ],
 "metadata": {
  "kernelspec": {
   "display_name": "Python 3",
   "language": "python",
   "name": "python3"
  },
  "language_info": {
   "codemirror_mode": {
    "name": "ipython",
    "version": 3
   },
   "file_extension": ".py",
   "mimetype": "text/x-python",
   "name": "python",
   "nbconvert_exporter": "python",
   "pygments_lexer": "ipython3",
   "version": "3.7.0"
  }
 },
 "nbformat": 4,
 "nbformat_minor": 2
}
