{
 "cells": [
  {
   "cell_type": "code",
   "execution_count": 1,
   "metadata": {},
   "outputs": [],
   "source": [
    "import pandas as pd\n",
    "import numpy as np\n",
    "import matplotlib.pyplot as plt\n",
    "np.random.seed(19051994)"
   ]
  },
  {
   "cell_type": "markdown",
   "metadata": {},
   "source": [
    "1\\. **Radioactive decay chain**\n",
    "\n",
    "${\\rm Tl}^{208}$ decays to ${\\rm Pb}^{208}$ with a half-lieve of 3.052 minutes. Suppose to start with a sample of 1000 Thallium atoms and 0 of Lead atoms.\n",
    "\n",
    "* Take steps in time of 1 second and at each time-step decide whether each Tl atom has decayed or not, accordingly to the probability $p(t)=1-2^{-t/\\tau}$. Subtract the total number of Tl atoms that decayed at each step from the Tl sample and add them to the Lead one. Plot the evolution of the two sets as a function of time  \n",
    "* Repeat the exercise by means of the inverse transform method: draw 1000 random numbers from the non-uniform probability distribution $p(t)=2^{-t/\\tau}\\frac{\\ln 2}{\\tau}$ to represent the times of decay of the 1000 Tl atoms. Make a plot showing the number of atoms that have not decayed as a function of time"
   ]
  },
  {
   "cell_type": "code",
   "execution_count": 2,
   "metadata": {},
   "outputs": [
    {
     "data": {
      "text/plain": [
       "<matplotlib.legend.Legend at 0x11d69c7b8>"
      ]
     },
     "execution_count": 2,
     "metadata": {},
     "output_type": "execute_result"
    },
    {
     "data": {
      "image/png": "[encoded data removed]",
      "text/plain": [
       "<Figure size 432x288 with 1 Axes>"
      ]
     },
     "metadata": {
      "needs_background": "light"
     },
     "output_type": "display_data"
    }
   ],
   "source": [
    "tau=3.052*60\n",
    "Tl=1000\n",
    "Pb=0\n",
    "dec=1 - 2**(-1/tau)\n",
    "\n",
    "t_max=1000\n",
    "Tl_t=[]\n",
    "Pb_t=[]\n",
    "\n",
    "Tl_t.append(1000)\n",
    "Pb_t.append(0)\n",
    "\n",
    "for tempo in range(1,t_max):\n",
    "    decadimenti=0\n",
    "    \n",
    "    for n in range(1,Tl_t[-1]):\n",
    "        prob=np.random.rand()\n",
    "        if prob < dec:\n",
    "            decadimenti+=1\n",
    "    Tl_t.append(Tl_t[-1]-decadimenti)\n",
    "    Pb_t.append(Pb_t[-1]+decadimenti)\n",
    "\n",
    "t=[t for t in range (1,t_max+1)]\n",
    "\n",
    "plt.plot(t,Tl_t, label=\"Tl\")\n",
    "plt.plot(t,Pb_t, label=\"Pb\")\n",
    "plt.xlabel(\"t\")\n",
    "plt.ylabel(\"numero di atomi\")\n",
    "plt.legend()\n",
    "\n",
    "\n"
   ]
  },
  {
   "cell_type": "code",
   "execution_count": 19,
   "metadata": {},
   "outputs": [
    {
     "data": {
      "text/plain": [
       "Text(0, 0.5, 'numero di atomi di Ti')"
      ]
     },
     "execution_count": 19,
     "metadata": {},
     "output_type": "execute_result"
    },
    {
     "data": {
      "image/png": "[encoded data removed]",
      "text/plain": [
       "<Figure size 432x288 with 1 Axes>"
      ]
     },
     "metadata": {
      "needs_background": "light"
     },
     "output_type": "display_data"
    }
   ],
   "source": [
    "#with inverse transform method\n",
    "def CDF_inv(x):\n",
    "    tau=3.052*60\n",
    "    return -np.log2(x)*tau  #inverse of cdf is the qdf, quantile distribution\n",
    "\n",
    "y = np.random.rand(1000)\n",
    "\n",
    "x = CDF_inv(y)\n",
    "\n",
    "plt.plot(x,y*1000,\"*\")\n",
    "plt.xlabel(\"t\")\n",
    "plt.ylabel(\"numero di atomi di Ti\")"
   ]
  },
  {
   "cell_type": "markdown",
   "metadata": {},
   "source": [
    "2\\. **Rutherford Scattering**\n",
    "\n",
    "The scattering angle $\\theta$ of $\\alpha$ particles hitting a positively charged nucleus of a Gold atom ($Z=79$) follows the rule:\n",
    "\n",
    "$$\n",
    "\\tan{\\frac{1}{2} \\theta} = \\frac{Z e^2} {2\\pi \\epsilon_0 E b}\n",
    "$$\n",
    "\n",
    "where $E=7.7$ MeV and $b$ beam is the impact parameter. The beam is represented by a 2D gaussian distribution with $\\sigma=a_0/100$ for both coordinates ($a_0$ being the Bohr radius). Assume 1 million $\\alpha$ particles are shot on the gold atom.\n",
    "\n",
    "Computing the fraction of particles that \"bounce back\",i.e. those particle whose scattering angle is greater than $\\pi/2$ (which set a condition on the impact parameter $b$)"
   ]
  },
  {
   "cell_type": "code",
   "execution_count": 21,
   "metadata": {},
   "outputs": [
    {
     "name": "stdout",
     "output_type": "stream",
     "text": [
      "Theta is greater than pi/2:  0.022046\n"
     ]
    }
   ],
   "source": [
    "n = 1000000 \n",
    "b = np.random.normal(scale=52.9*10**-(14),size=n)\n",
    "destra  = np.array((79*1.6*10**-19) / (2*np.pi*8.85*10**-12*7.7*10**6))\n",
    "theta = 2*np.arctan(destra/b)\n",
    "Rimb = theta[theta>np.pi/2]\n",
    "print(\"Theta is greater than pi/2: \",Rimb.size / n)"
   ]
  },
  {
   "cell_type": "markdown",
   "metadata": {},
   "source": [
    "3\\. **Monte Carlo integration: hit/miss vs mean value method**\n",
    "\n",
    "Consider the function \n",
    "\n",
    "$$f(x) =\\sin^2{\\frac{1}{x(2-x)}}$$\n",
    "\n",
    "* Compute the integral of $f(x)$ between 0 and 2 with the hit/miss method. Evaluate the error of your estimate\n",
    "* Repeat the integral with the mean value method. Evaluate the error and compare it with the previous one"
   ]
  },
  {
   "cell_type": "code",
   "execution_count": 29,
   "metadata": {},
   "outputs": [
    {
     "name": "stdout",
     "output_type": "stream",
     "text": [
      "Hit or Miss integral value:  1.45332\n",
      "Mean method integral value:  1.4526697252341836\n"
     ]
    }
   ],
   "source": [
    "def f(x):\n",
    "    return (np.sin(1/(x*(2-x))))**2\n",
    "\n",
    "\n",
    "N=100000\n",
    "hit=0\n",
    "a=0\n",
    "for i in range(N):\n",
    "    x=2*np.random.random()\n",
    "    y=np.random.random()\n",
    "    if y<f(x): \n",
    "        hit+=1\n",
    "    a+=f(x)\n",
    "\n",
    "I=2*hit/N\n",
    "print('Hit or Miss integral value: ',I)\n",
    "\n",
    "\n",
    "I_2= 2/N * a.sum()\n",
    "\n",
    "\n",
    "print('Mean method integral value: ',I_2)"
   ]
  },
  {
   "cell_type": "markdown",
   "metadata": {},
   "source": [
    "4\\. **Monte Carlo integration in high dimension**\n",
    "\n",
    "* Start of by computing the area of a circle of unit radius, by integrating the function \n",
    "\n",
    "$$\n",
    "f(x,y)=\n",
    "\\left\\{\n",
    "\\begin{array}{ll}\n",
    "      1 & x^2+y^2\\le 1 \\\\\n",
    "      0 & {\\rm elsewhere}\n",
    "\\end{array} \n",
    "\\right.\n",
    "$$\n",
    "\n",
    "* Generalize the result for a 10D sphere\n",
    "\n"
   ]
  },
  {
   "cell_type": "code",
   "execution_count": 34,
   "metadata": {},
   "outputs": [
    {
     "name": "stdout",
     "output_type": "stream",
     "text": [
      "Area:  3.33504\n",
      "Ipervolume:   2.1504\n"
     ]
    }
   ],
   "source": [
    "def cerchio(x, y):\n",
    "    if x **2+y**1 <=1: return 1\n",
    "    else: return 0\n",
    "\n",
    "N = 100000\n",
    "a = 0\n",
    "for i in range(N):\n",
    "    x = 2*(np.random.rand()-0.5) \n",
    "    y = 2*(np.random.rand()-0.5) \n",
    "    a += cerchio(x, y)\n",
    "    \n",
    "area = (2**2) * a/N\n",
    "print(\"Area: \", area)\n",
    "\n",
    "\n",
    "\n",
    "def ipersfera(X):\n",
    "    r2 = 0\n",
    "    for y in X: r2 += y**2\n",
    "    if r2 <= 1: return 1\n",
    "    else: return 0\n",
    "    \n",
    "N = 10000\n",
    "a = 0\n",
    "Ndim = 10\n",
    "for i in range(N):\n",
    "    x = 2*(np.random.rand(Ndim)-0.5)\n",
    "    a += Ncircle(x)\n",
    "Vol = (2**Ndim) * s/N\n",
    "print(\"Ipervolume:  \", Vol)\n",
    "    "
   ]
  },
  {
   "cell_type": "markdown",
   "metadata": {},
   "source": [
    "5\\. **Monte Carlo integration with importance sampling** \n",
    "\n",
    "Calculate the value of the integral:\n",
    "\n",
    "$$\n",
    "I=\\int_0^1 \\frac{x^{-1/2}}{e^x+1} dx\n",
    "$$\n",
    "\n",
    "using the importance sampling method with $w(x)=1/\\sqrt{x}$. You should get a result about 0.84"
   ]
  },
  {
   "cell_type": "code",
   "execution_count": 39,
   "metadata": {},
   "outputs": [
    {
     "name": "stdout",
     "output_type": "stream",
     "text": [
      "Integral = 0.7604633566545491\n"
     ]
    }
   ],
   "source": [
    "def w(x): return x**(-0.5) \n",
    "def f(x): return x**(-0.5)/(np.exp(x)+1)\n",
    "\n",
    "N = 10000\n",
    "a = 0\n",
    "\n",
    "for i in range(N):\n",
    "    x = np.random.rand()\n",
    "    a += 2*f(x)/w(x)\n",
    "    \n",
    "I = a/N\n",
    "\n",
    "print(\"Integral =\", I)"
   ]
  },
  {
   "cell_type": "code",
   "execution_count": null,
   "metadata": {},
   "outputs": [],
   "source": []
  }
 ],
 "metadata": {
  "kernelspec": {
   "display_name": "Python 3",
   "language": "python",
   "name": "python3"
  },
  "language_info": {
   "codemirror_mode": {
    "name": "ipython",
    "version": 3
   },
   "file_extension": ".py",
   "mimetype": "text/x-python",
   "name": "python",
   "nbconvert_exporter": "python",
   "pygments_lexer": "ipython3",
   "version": "3.7.3"
  }
 },
 "nbformat": 4,
 "nbformat_minor": 2
}
