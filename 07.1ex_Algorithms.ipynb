{
 "cells": [
  {
   "cell_type": "markdown",
   "metadata": {},
   "source": [
    "1\\. **PCA on 3D dataset**\n",
    "\n",
    "* Generate a dataset with 3 features each with N entries (N being ${\\cal O}(1000)$). With $N(\\mu,\\sigma)$ the normali distribution with mean $\\mu$ and $\\sigma$  standard deviation, generate the 3 variables $x_{1,2,3}$ such that:\n",
    "    * $x_1$ is distributed as $N(0,1)$\n",
    "    * $x_2$ is distributed as $x_1+N(0,3)$\n",
    "    * $x_3$ is given by $2x_1+x_2$\n",
    "* Find the eigenvectors and eigenvalues of the covariance matrix of the dataset\n",
    "* Find the eigenvectors and eigenvalues using SVD. Check that they are two procedure yields to same result\n",
    "* What percent of the total variability is explained by the principal components? Given how the dataset was constructed, do these make sense? Reduce the dimensionality of the system so that at least 99% of the total variability is retained.\n",
    "* Redefine the data in the basis yielded by the PCA procedure\n",
    "* Plot the data points in the original and the new coordiantes as a set of scatter plots. Your final figure should have 2 rows of 3 plots each, where the columns show the (0,1), (0,2) and (1,2) proejctions.\n"
   ]
  },
  {
   "cell_type": "code",
   "execution_count": 7,
   "metadata": {},
   "outputs": [
    {
     "name": "stdout",
     "output_type": "stream",
     "text": [
      "\n",
      "la matrice di covarianza: \n",
      "\n",
      " [[ 1.04474832  1.01568867  3.10518532]\n",
      " [ 1.01568867 10.31947931 12.35085665]\n",
      " [ 3.10518532 12.35085665 18.56122728]]\n",
      "autovalori: \n",
      " \n",
      " [ 2.78229530e+01+0.j -6.85957255e-16+0.j  2.10250189e+00+0.j] \n",
      " autovettori \n",
      " \n",
      " [[-0.11563408 -0.81649658  0.56565192]\n",
      " [-0.5771452  -0.40824829 -0.70727417]\n",
      " [-0.80841337  0.40824829  0.42402967]]\n",
      "\n",
      " autovalori \n",
      " \n",
      " [2.78229530e+01 2.10250189e+00 2.72287228e-16] \n",
      " autovettori: \n",
      " \n",
      " [[-0.11563408  0.56565192 -0.81649658]\n",
      " [-0.5771452  -0.70727417 -0.40824829]\n",
      " [-0.80841337  0.42402967  0.40824829]]\n",
      "100.0  %\n",
      "spiegazione: il fatto che due autovalori siano sufficienti a spiegare tutta la variabilità è perchè ho slo due variabili linearmente indipendenti\n",
      "autovalori: \n",
      " \n",
      " [ 0.93482173+0.j 10.42940591+0.j] \n",
      " autovettori \n",
      " \n",
      " [[-0.99419424 -0.10760028]\n",
      " [ 0.10760028 -0.99419424]]\n"
     ]
    }
   ],
   "source": [
    "import numpy as np\n",
    "import matplotlib.pyplot as plt\n",
    "import scipy.stats as stats\n",
    "from scipy import linalg as la\n",
    "import scipy as sp\n",
    "from math import pi\n",
    "from math import e\n",
    "%matplotlib inline\n",
    "\n",
    "#creo il dataset:\n",
    "\n",
    "x1=np.random.normal(0,1,1000)\n",
    "x2=x1+np.random.normal(0,3,1000)\n",
    "x3= 2*x1+x2\n",
    "\n",
    "dataset=np.array([x1,x2,x3])\n",
    "dataset.shape\n",
    "#print(dataset)\n",
    "cov=np.cov(dataset)\n",
    "print('\\nla matrice di covarianza: \\n\\n',cov)\n",
    "#autovalori e vettori\n",
    "va,vett=la.eig(cov)\n",
    "print('autovalori: \\n \\n',va,'\\n autovettori \\n \\n',vett)\n",
    "\n",
    "#usando SVD\n",
    "U, spectrum, Vt = la.svd(cov)\n",
    "print('\\n autovalori \\n \\n',spectrum,'\\n autovettori: \\n \\n',U)\n",
    "\n",
    "#variabilità rimasta togliendo l'autovalore minore:\n",
    "variability=(spectrum.sum()-spectrum.min())/spectrum.sum()\n",
    "print(variability*100,' %')\n",
    "\n",
    "print('spiegazione: il fatto che due autovalori siano sufficienti a spiegare tutta la variabilità è perchè ho slo due variabili linearmente indipendenti')\n",
    "\n",
    "#riduzione con PCA\n",
    "'''dataset_r=np.array([x1,x2])\n",
    "cov_r=np.cov(dataset_r)\n",
    "va_r,vett_r=la.eig(cov_r)\n",
    "print('autovalori: \\n \\n',va_r,'\\n autovettori \\n \\n',vett_r)'''"
   ]
  },
  {
   "cell_type": "markdown",
   "metadata": {},
   "source": [
    "2\\. **PCA on a nD dataset**\n",
    "\n",
    "Start from the dataset you have genereted in the previous exercise and add uncorrelated random noise. Such noise should be represented by other 10 uncorrelated variables normal distributed, with standar deviation much smaller (say, a factor 50) than those used to generate the $x_1$ and $x_2$.\n",
    "\n",
    "Repeat the PCA procedure and compare the results with what you obtained before"
   ]
  },
  {
   "cell_type": "markdown",
   "metadata": {},
   "source": [
    "3 \\. **Looking at an oscillating spring** (optional)\n",
    "\n",
    "Imagine you have $n$ cameras looking at a spring oscillating along the $x$ axis. Each  camera record the motion of the spring looking at it along a given direction defined by the pair $(\\theta_i, \\phi_i)$, the angles in spherical coordinates. \n",
    "\n",
    "Start from the simulation of the records (say ${\\cal O}(1000)$) of the spring's motion along the x axis, assuming a little random noise affects the measurements along the $y$. Rotate such dataset to emulate the records of each camera.\n",
    "\n",
    "Perform a Principal Component Analysis on the thus obtained dataset, aiming at finding the only one coordinate that really matters.\n"
   ]
  },
  {
   "cell_type": "markdown",
   "metadata": {},
   "source": [
    "4\\. **PCA on the MAGIC dataset** (optional)\n",
    "\n",
    "Perform a PCA on the magic04.data dataset"
   ]
  },
  {
   "cell_type": "code",
   "execution_count": null,
   "metadata": {},
   "outputs": [],
   "source": []
  }
 ],
 "metadata": {
  "kernelspec": {
   "display_name": "Python 3",
   "language": "python",
   "name": "python3"
  },
  "language_info": {
   "codemirror_mode": {
    "name": "ipython",
    "version": 3
   },
   "file_extension": ".py",
   "mimetype": "text/x-python",
   "name": "python",
   "nbconvert_exporter": "python",
   "pygments_lexer": "ipython3",
   "version": "3.7.0"
  }
 },
 "nbformat": 4,
 "nbformat_minor": 2
}
